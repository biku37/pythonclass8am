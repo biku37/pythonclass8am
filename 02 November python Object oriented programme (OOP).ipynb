{
 "cells": [
  {
   "cell_type": "code",
   "execution_count": 1,
   "id": "4a5bfb4f",
   "metadata": {},
   "outputs": [],
   "source": [
    "#OOP\n",
    "#class object"
   ]
  },
  {
   "cell_type": "code",
   "execution_count": 3,
   "id": "a24284a1",
   "metadata": {},
   "outputs": [
    {
     "name": "stdout",
     "output_type": "stream",
     "text": [
      "Hello World\n"
     ]
    }
   ],
   "source": [
    "class Hello:             #class\n",
    "    print(\"Hello World\")\n",
    "    \n",
    "object= Hello()          #Object"
   ]
  },
  {
   "cell_type": "code",
   "execution_count": null,
   "id": "a969edc2",
   "metadata": {},
   "outputs": [],
   "source": [
    "# method== function inside a class\n",
    "class Hello:\n",
    "    def hello(self):        #syntax\n",
    "        print(\"Hello World\")\n",
    "        \n",
    "obj = Hello()    #initializes the class Hello\n",
    "obj.hello()"
   ]
  },
  {
   "cell_type": "code",
   "execution_count": 5,
   "id": "42799254",
   "metadata": {},
   "outputs": [
    {
     "name": "stdout",
     "output_type": "stream",
     "text": [
      "Hello World\n"
     ]
    }
   ],
   "source": [
    "# method== function inside a class\n",
    "class Hello:\n",
    "    @staticmethod\n",
    "    def hello():\n",
    "        print(\"Hello World\")\n",
    "        \n",
    "obj = Hello()    #initializes the class Hello\n",
    "obj.hello()"
   ]
  },
  {
   "cell_type": "code",
   "execution_count": 8,
   "id": "bd7f244e",
   "metadata": {},
   "outputs": [
    {
     "name": "stdout",
     "output_type": "stream",
     "text": [
      "50\n",
      "100\n"
     ]
    }
   ],
   "source": [
    "class Cal:\n",
    "    @staticmethod\n",
    "    def area():\n",
    "        l=10\n",
    "        b=5\n",
    "        return l*b\n",
    "        \n",
    "    def vol(self,l,b,h):    #self= can use//access the property of above class\n",
    "        v= l*b*h\n",
    "        return v\n",
    "       \n",
    "    \n",
    "obj= Cal()\n",
    "print(obj.area())\n",
    "print(obj.vol(10,5,2))"
   ]
  },
  {
   "cell_type": "code",
   "execution_count": 9,
   "id": "0cbf95c1",
   "metadata": {},
   "outputs": [
    {
     "name": "stdout",
     "output_type": "stream",
     "text": [
      "50\n",
      "100\n"
     ]
    }
   ],
   "source": [
    "class Area:\n",
    "    def area(self,l,b):\n",
    "        return l*b\n",
    "class Vol:        \n",
    "    def vol(self,l,b,h):    #self= can use//access the property of above class\n",
    "        return l*b*h\n",
    "       \n",
    "    \n",
    "obj= Area()\n",
    "obj1= Vol()\n",
    "print(obj.area(10,5))\n",
    "print(obj1.vol(10,5,2))"
   ]
  },
  {
   "cell_type": "code",
   "execution_count": 15,
   "id": "f3cb2e7d",
   "metadata": {},
   "outputs": [
    {
     "name": "stdout",
     "output_type": "stream",
     "text": [
      "50\n",
      "100\n"
     ]
    }
   ],
   "source": [
    "class Cal:\n",
    "    def __init__(self,l,b,h):\n",
    "        self.l =l\n",
    "        self.b=b\n",
    "        self.h=h\n",
    "        \n",
    "    def area(self):\n",
    "        return self.l*self.b\n",
    "        \n",
    "    def vol(self):    #self= can use//access the property of above class\n",
    "        return self.l*self.b*self.h\n",
    "       \n",
    "    \n",
    "obj= Cal(10,5,2)\n",
    "print(obj.area())\n",
    "print(obj.vol())"
   ]
  },
  {
   "cell_type": "code",
   "execution_count": null,
   "id": "98ff9526",
   "metadata": {},
   "outputs": [],
   "source": [
    "class Cal:\n",
    "    def __init__(self,l,b,h):\n",
    "        self.l =l\n",
    "        self.b=b\n",
    "        self.h=h\n",
    "        \n",
    "    def area(self):\n",
    "        return self.l*self.b\n",
    "        \n",
    "    def vol(self):    #self= can use//access the property of above class\n",
    "        return self.l*self.b*self.h\n",
    "       \n",
    "    \n",
    "obj= Cal(10,5,2)\n",
    "print(obj.area())\n",
    "print(obj.vol())"
   ]
  },
  {
   "cell_type": "code",
   "execution_count": 2,
   "id": "94537199",
   "metadata": {},
   "outputs": [
    {
     "name": "stdout",
     "output_type": "stream",
     "text": [
      "Enter the value of l: 10\n",
      "Enter the value of b: 5\n",
      "Enter the value of h: 2\n",
      "50\n",
      "100\n"
     ]
    }
   ],
   "source": [
    "class Cal:\n",
    "    def __init__(self,l,b,h):\n",
    "        self.l =int(input(\"Enter the value of l: \"))\n",
    "        self.b=int(input(\"Enter the value of b: \"))\n",
    "        self.h=int(input(\"Enter the value of h: \"))\n",
    "        \n",
    "    def area(self):\n",
    "        return self.l*self.b\n",
    "        \n",
    "    def vol(self):    #self= can use//access the property of above class\n",
    "        return self.l*self.b*self.h\n",
    "       \n",
    "    \n",
    "obj= Cal(10,5,2)\n",
    "print(obj.area())\n",
    "print(obj.vol())"
   ]
  },
  {
   "cell_type": "code",
   "execution_count": 1,
   "id": "115cc618",
   "metadata": {},
   "outputs": [
    {
     "ename": "SyntaxError",
     "evalue": "invalid syntax (1477468642.py, line 6)",
     "output_type": "error",
     "traceback": [
      "\u001b[1;36m  Input \u001b[1;32mIn [1]\u001b[1;36m\u001b[0m\n\u001b[1;33m    class B(A)\u001b[0m\n\u001b[1;37m              ^\u001b[0m\n\u001b[1;31mSyntaxError\u001b[0m\u001b[1;31m:\u001b[0m invalid syntax\n"
     ]
    }
   ],
   "source": [
    "\n",
    "\n",
    "class A:\n",
    "    def __init___(self):\n",
    "        name= input(\"Enter name = \")\n",
    "        age= int(input(\"Enter age= \"))\n",
    "        \n",
    "class B(A)"
   ]
  },
  {
   "cell_type": "code",
   "execution_count": null,
   "id": "71ae7946",
   "metadata": {},
   "outputs": [],
   "source": [
    "# watch beautiful soup documentation\n",
    "# Download Git\n",
    "# signup github account"
   ]
  }
 ],
 "metadata": {
  "kernelspec": {
   "display_name": "Python 3 (ipykernel)",
   "language": "python",
   "name": "python3"
  },
  "language_info": {
   "codemirror_mode": {
    "name": "ipython",
    "version": 3
   },
   "file_extension": ".py",
   "mimetype": "text/x-python",
   "name": "python",
   "nbconvert_exporter": "python",
   "pygments_lexer": "ipython3",
   "version": "3.9.12"
  }
 },
 "nbformat": 4,
 "nbformat_minor": 5
}
