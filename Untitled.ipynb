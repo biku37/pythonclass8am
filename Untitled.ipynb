{
 "cells": [
  {
   "cell_type": "code",
   "execution_count": 22,
   "id": "64f41900",
   "metadata": {},
   "outputs": [
    {
     "name": "stdout",
     "output_type": "stream",
     "text": [
      "Enter the higher range= 7\n",
      "the prime numbers are \n",
      "\n",
      "1  2  3  5  7  "
     ]
    }
   ],
   "source": [
    "n = int(input(\"Enter the higher range= \"))\n",
    "print(\"the prime numbers are \\n\")\n",
    "for i in range(1,n+1):\n",
    "    if n>1:\n",
    "        for j in range(2,(i)):\n",
    "            if i%j==0:\n",
    "    #           print (\"composite number:\", i)\n",
    "                break\n",
    "        else:\n",
    "            print(i,end=(\"  \"))"
   ]
  },
  {
   "cell_type": "code",
   "execution_count": 57,
   "id": "f9be47b0",
   "metadata": {},
   "outputs": [
    {
     "name": "stdout",
     "output_type": "stream",
     "text": [
      "Prime numbers between 1 and 21 are:\n",
      "2 3 5 7 11 13 17 19 "
     ]
    }
   ],
   "source": [
    "lower = 1\n",
    "upper = 21\n",
    "\n",
    "print(\"Prime numbers between\", lower, \"and\", upper, \"are:\")\n",
    "\n",
    "for num in range(lower, upper + 1):\n",
    "   # all prime numbers are greater than 1\n",
    "   if num > 1:\n",
    "       for i in range(2, num):\n",
    "           if (num % i) == 0:\n",
    "               break\n",
    "       else:\n",
    "           print(num, end=(\" \"))"
   ]
  },
  {
   "cell_type": "code",
   "execution_count": null,
   "id": "6e609a2f",
   "metadata": {},
   "outputs": [],
   "source": []
  },
  {
   "cell_type": "code",
   "execution_count": 3,
   "id": "7c8ffded",
   "metadata": {},
   "outputs": [
    {
     "name": "stdout",
     "output_type": "stream",
     "text": [
      "Enter the no.9\n",
      "1 2 3 5 7 "
     ]
    }
   ],
   "source": [
    "n=int(input(\"Enter the no.\" ))\n",
    "for i in range (1,n+1):\n",
    "    if n>1:\n",
    "        for j in range(2,i):\n",
    "            if i%j==0:\n",
    "                break\n",
    "        else:\n",
    "            print(i, end=(\" \"))\n"
   ]
  },
  {
   "cell_type": "code",
   "execution_count": 2,
   "id": "0faa1c7e",
   "metadata": {},
   "outputs": [
    {
     "name": "stdout",
     "output_type": "stream",
     "text": [
      "Enter the number to check for prime or not :7\n",
      "The number is prime number 7\n"
     ]
    }
   ],
   "source": [
    "# check wether the number is prime or composite\n",
    "\n",
    "n=int(input(\"Enter the number to check for prime or not : \"))\n",
    "if n>1:\n",
    "    for i in range (2,n):\n",
    "        if n%i==0:\n",
    "            print(\"The number is composite number\", n)\n",
    "            break\n",
    "        \n",
    "\n",
    "    else:\n",
    "        print(\"The number is prime number\", n)\n",
    "        \n",
    "else:\n",
    "    print (\"The number is none \")"
   ]
  },
  {
   "cell_type": "code",
   "execution_count": 42,
   "id": "81e29235",
   "metadata": {},
   "outputs": [
    {
     "name": "stdout",
     "output_type": "stream",
     "text": [
      "Enter the higher range of number= 21\n",
      "\n",
      "Composite numbers are:\n",
      "4  6  8  9  10  12  14  15  16  18  20  21  \n",
      "Prime numbers are:\n",
      "1  2  3  5  7  11  13  17  19  "
     ]
    }
   ],
   "source": [
    "#different but long\n",
    "\n",
    "\n",
    "\n",
    "n= int(input(\"Enter the higher range of number= \"))\n",
    "print(\"\\nComposite numbers are:\")\n",
    "for i in range(1,n+1):\n",
    "    if n >1:\n",
    "        for j in range(2,i):\n",
    "            if i%j==0:\n",
    "                print(i, end=(\"  \"))\n",
    "                break\n",
    "print(\"\\nPrime numbers are:\")\n",
    "for i in range(1,n+1):\n",
    "    if n >1:\n",
    "        for j in range(2,i):\n",
    "            if i%j==0:\n",
    "                break\n",
    "        else:\n",
    "            print(i, end=(\"  \"))"
   ]
  },
  {
   "cell_type": "code",
   "execution_count": 55,
   "id": "e05b48e7",
   "metadata": {},
   "outputs": [
    {
     "name": "stdout",
     "output_type": "stream",
     "text": [
      "No. of students2\n",
      "Name of the student\n",
      "ram\n",
      "Maths marks\n",
      "56\n",
      "English marks\n",
      "54\n",
      "Name of the student\n",
      "shaym\n",
      "Maths marks\n",
      "98\n",
      "English marks\n",
      "89\n",
      "name Maths English Total p remarks\n",
      "\n",
      "ram 56 54 110 55.0 you are pass\n",
      "shaym 98 89 187 93.5 you are pass\n",
      "\n"
     ]
    }
   ],
   "source": [
    "s=\"\"\n",
    "N=int(input(\"No. of students\"))\n",
    "for i in range(N):\n",
    "    name = input(\"Name of the student\\n\")\n",
    "    M=int(input(\"Maths marks\\n\"))\n",
    "    E=int(input(\"English marks\\n\"))\n",
    "    T=M+E\n",
    "    p=T/2\n",
    "    if p>50:\n",
    "        a=\"you are pass\"\n",
    "    else:\n",
    "        a=\"you are fail\"\n",
    "    EQN=f\"{name} {M} {E} {T} {p} {a}\\n\"\n",
    "    s=s+ EQN\n",
    "print(\"name Maths English Total p remarks\")\n",
    "print(s)\n"
   ]
  },
  {
   "cell_type": "code",
   "execution_count": 9,
   "id": "5eb41a5b",
   "metadata": {},
   "outputs": [
    {
     "name": "stdout",
     "output_type": "stream",
     "text": [
      "[84, 78, 65, 5, 4, 4, 3, 2]\n"
     ]
    }
   ],
   "source": [
    "l1=[84,65,2,4,78,3,4,5]\n",
    "l1.sort()\n",
    "l1.reverse()\n",
    "print(l1)"
   ]
  },
  {
   "cell_type": "code",
   "execution_count": 12,
   "id": "195ab1e2",
   "metadata": {},
   "outputs": [
    {
     "data": {
      "text/plain": [
       "99"
      ]
     },
     "execution_count": 12,
     "metadata": {},
     "output_type": "execute_result"
    }
   ],
   "source": [
    "l1=[84,65,2,4,78,3,4,5]\n",
    "l1.append(99)\n",
    "l1[8]"
   ]
  },
  {
   "cell_type": "code",
   "execution_count": 20,
   "id": "2f0e0d74",
   "metadata": {},
   "outputs": [
    {
     "data": {
      "text/plain": [
       "[84, 65, 2, 78, 3, 5]"
      ]
     },
     "execution_count": 20,
     "metadata": {},
     "output_type": "execute_result"
    }
   ],
   "source": [
    "l1=[84,65,2,4,78,3,4,5]\n",
    "l1.remove(4)\n",
    "l1.remove(4)\n",
    "l1"
   ]
  },
  {
   "cell_type": "code",
   "execution_count": 22,
   "id": "81095e57",
   "metadata": {},
   "outputs": [
    {
     "data": {
      "text/plain": [
       "[84, 65, 2, 4, 3, 4, 5]"
      ]
     },
     "execution_count": 22,
     "metadata": {},
     "output_type": "execute_result"
    }
   ],
   "source": [
    "l1=[84,65,2,4,78,3,4,5]\n",
    "l1.pop(4)\n",
    "l1"
   ]
  },
  {
   "cell_type": "code",
   "execution_count": null,
   "id": "bd56384a",
   "metadata": {},
   "outputs": [],
   "source": []
  },
  {
   "cell_type": "code",
   "execution_count": 30,
   "id": "458ebdba",
   "metadata": {},
   "outputs": [
    {
     "name": "stdout",
     "output_type": "stream",
     "text": [
      "Enter the fruit name;\n",
      "mange\n",
      "Enter the fruit name;\n",
      "apple\n",
      "Enter the fruit name;\n",
      "papaya\n",
      "['mange', 'apple', 'papaya']\n"
     ]
    }
   ],
   "source": [
    "f1= (input(\"Enter the fruit name;\\n\"))\n",
    "f2= (input(\"Enter the fruit name;\\n\"))\n",
    "f3= (input(\"Enter the fruit name;\\n\"))\n",
    "\n",
    "l1=[f1,  f2,  f3]\n",
    "print(l1)\n"
   ]
  },
  {
   "cell_type": "code",
   "execution_count": 26,
   "id": "134316a4",
   "metadata": {},
   "outputs": [
    {
     "name": "stdout",
     "output_type": "stream",
     "text": [
      "{'bikesh': 'good friend', 'samir': 'brother', 'pratigya': 'girl friend'}\n",
      "good friend girl friend\n",
      "brother\n",
      "good friend\n",
      "brother\n",
      "girl friend\n",
      "bikesh good friend\n",
      "samir brother\n",
      "pratigya girl friend\n"
     ]
    }
   ],
   "source": [
    "d={\"bikesh\":\"good friend\", \"samir\":\"brother\",\"pratigya\":\"girl friend\"}\n",
    "print(d)\n",
    "print(d[\"bikesh\"],d[\"pratigya\"])\n",
    "print(d[\"samir\"])\n",
    "for x in d.values():\n",
    "    print (x)\n",
    "    \n",
    "for r,t in d.items():\n",
    "    print(r,t)\n"
   ]
  },
  {
   "cell_type": "code",
   "execution_count": 32,
   "id": "851ab67a",
   "metadata": {},
   "outputs": [
    {
     "name": "stdout",
     "output_type": "stream",
     "text": [
      "Enter the name of the person whose details u want to know \n",
      "pratigya\n",
      "She is my girl friend. She is very pretty\n"
     ]
    }
   ],
   "source": [
    "d={\"bikesh\":\"He is my good friend. He lives in Patan. He works at Medipro in civil mall\", \n",
    "   \"samir\":\"He is my good brother. He lives in Bhaktapur. He works as an electrician\",\n",
    "   \"pratigya\":\"She is my girl friend. She is very pretty\"}\n",
    "n=input(\"Enter the name of the person whose details u want to know \\n\")\n",
    "if n in d: \n",
    "    print(d[n])\n",
    "else:\n",
    "    print(\"no information\")\n",
    "# for i in d:\n",
    "#     print(d[i])"
   ]
  },
  {
   "cell_type": "code",
   "execution_count": 24,
   "id": "771f30f3",
   "metadata": {},
   "outputs": [
    {
     "name": "stdout",
     "output_type": "stream",
     "text": [
      "suman girl friend\n",
      "{'anup': 'suman', 'bikesh': 'friend', 'pratigya': 'girl friend', 'office': 'Shrestha consultant', 'samir': 'brother', 'dines': 'Collague'}\n",
      "{'anup': 'suman', 'bikesh': 'friend', 'pratigya': 'girl friend', 'office': 'Shrestha consultant', 'samir': 'brother', 'dines': 'Collague'}\n",
      "dict_keys(['anup', 'bikesh', 'pratigya', 'office', 'samir', 'dines'])\n",
      "dict_values(['suman', 'friend', 'girl friend', 'Shrestha consultant', 'brother', 'Collague'])\n"
     ]
    }
   ],
   "source": [
    "d={\"anup\":\"myself\",\"bikesh\":\"friend\", \"pratigya\":\"girl friend\", \"office\":\"Shrestha consultant\", \"ram\":\"no one\"}\n",
    "\n",
    "# add new key and value\n",
    "d[\"samir\"]=\"brother\"\n",
    "d.update({\"dines\":\"Collague\"})\n",
    "\n",
    "#replace\n",
    "d[\"anup\"]=\"suman\"\n",
    "# d.replace({\"dines\":\"kibachhe\"}) doesnot work\n",
    "\n",
    "#delete\n",
    "del d[\"ram\"]\n",
    "#copy the dictionary\n",
    "d2=d.copy()\n",
    "\n",
    "# getting the values\n",
    "print(d.get(\"anup\"), d[\"pratigya\"])\n",
    "\n",
    "\n",
    "print(d)\n",
    "print(d2)\n",
    "print(d2.keys())\n",
    "print(d2.values())"
   ]
  },
  {
   "cell_type": "code",
   "execution_count": 31,
   "id": "2d3fb22c",
   "metadata": {},
   "outputs": [
    {
     "data": {
      "text/plain": [
       "6.0"
      ]
     },
     "execution_count": 31,
     "metadata": {},
     "output_type": "execute_result"
    }
   ],
   "source": [
    "def area(b,h):\n",
    "    return float(0.5*b*h)\n",
    "area(3,4)"
   ]
  }
 ],
 "metadata": {
  "kernelspec": {
   "display_name": "Python 3 (ipykernel)",
   "language": "python",
   "name": "python3"
  },
  "language_info": {
   "codemirror_mode": {
    "name": "ipython",
    "version": 3
   },
   "file_extension": ".py",
   "mimetype": "text/x-python",
   "name": "python",
   "nbconvert_exporter": "python",
   "pygments_lexer": "ipython3",
   "version": "3.9.12"
  }
 },
 "nbformat": 4,
 "nbformat_minor": 5
}
