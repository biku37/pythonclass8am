{
 "cells": [
  {
   "cell_type": "code",
   "execution_count": null,
   "id": "4203b47a",
   "metadata": {},
   "outputs": [],
   "source": [
    "#  to add values in list \n",
    "# append(), insert() extend()\n",
    "\n",
    "#  to delete values in list \n",
    "# del ,  remove() pop()\n",
    "\n",
    "# for indexing\n",
    "# index ()\n",
    "\n",
    "# value Counting\n",
    "# count()\n",
    "\n",
    "# calculation\n",
    "# sum, max , min \n",
    "\n",
    "# sorting\n",
    "# sort(), sorted(), reverse()"
   ]
  },
  {
   "cell_type": "code",
   "execution_count": 13,
   "id": "ac9e1419",
   "metadata": {},
   "outputs": [
    {
     "name": "stdout",
     "output_type": "stream",
     "text": [
      "['Apple', 'apple', 'Zebra', 'Jacket', 'Jug', 'Cat', 'Ball', 'Fish', 'Bat', 'Bull']\n",
      "['Apple', 'apple', 'Zebra', 'Jacket', 'Jug', 'Cat', 'Ball', 'Fish', 'Bat', 'Bull']\n",
      "['Bull', 'Bat', 'Fish', 'Ball', 'Cat', 'Jug', 'Jacket', 'Zebra', 'apple', 'Apple']\n"
     ]
    }
   ],
   "source": [
    "a=['Apple', 'apple','Zebra','Jug', 'Cat', 'Ball', 'Fish']\n",
    "a.append('Bat')\n",
    "a.append('Bull')\n",
    "a.insert(3,'Jacket')\n",
    "\n",
    "print(a)\n",
    "print(a)\n",
    "a.reverse()\n",
    "print(a)\n"
   ]
  },
  {
   "cell_type": "code",
   "execution_count": 15,
   "id": "1e396fe5",
   "metadata": {},
   "outputs": [
    {
     "name": "stdout",
     "output_type": "stream",
     "text": [
      "['Apple', 'apple', 'Zebra', 'Jug', 'Cat', 'Ball', 'Fish', 'Ram', 'Shyam']\n"
     ]
    }
   ],
   "source": [
    "a=['Apple', 'apple','Zebra','Jug', 'Cat', 'Ball', 'Fish']\n",
    "b=['Ram', 'Shyam']\n",
    "a.extend(b)\n",
    "\n",
    "# c=a+b\n",
    "\n",
    "print(c)"
   ]
  },
  {
   "cell_type": "code",
   "execution_count": 24,
   "id": "3dc065ad",
   "metadata": {},
   "outputs": [
    {
     "name": "stdout",
     "output_type": "stream",
     "text": [
      "['apple', 'apple', 'Ball', 'Fish', 'Ram', 'Shyam']\n"
     ]
    }
   ],
   "source": [
    "a=['Apple', 'apple', 'Zebra', 'Jug', 'Cat', 'Ball', 'Fish', 'Ram', 'Shyam']\n",
    "a[0]= 'apple'\n",
    "del a[2]\n",
    "del a[2:4]\n",
    "print(a)"
   ]
  },
  {
   "cell_type": "code",
   "execution_count": 1,
   "id": "d68d31e7",
   "metadata": {},
   "outputs": [
    {
     "name": "stdout",
     "output_type": "stream",
     "text": [
      "['Ball', 'Ball', 'Cat', 'Dog']\n"
     ]
    }
   ],
   "source": [
    "# interchange the value of lists\n",
    "# wrong way\n",
    "\n",
    "a=['Apple', 'Ball', 'Cat',  'Dog']\n",
    "a[0]= a[1]\n",
    "a[1]=a[0]\n",
    "\n",
    "print(a)"
   ]
  },
  {
   "cell_type": "code",
   "execution_count": 28,
   "id": "9419f116",
   "metadata": {},
   "outputs": [
    {
     "name": "stdout",
     "output_type": "stream",
     "text": [
      "['Apple', 'apple', 'Cat', 'Ball', 'Fish', 'Ram']\n"
     ]
    }
   ],
   "source": [
    "# Del syntax different\n",
    "\n",
    "a=['Apple', 'apple', 'Zebra', 'Jug', 'Cat', 'Ball', 'Fish', 'Ram', 'Shyam']\n",
    "del a[-1]\n",
    "del a[2:4]\n",
    "print(a)"
   ]
  },
  {
   "cell_type": "code",
   "execution_count": 3,
   "id": "2c58c3a9",
   "metadata": {},
   "outputs": [
    {
     "name": "stdout",
     "output_type": "stream",
     "text": [
      "1\n",
      "['Apple', 'Zebra', 'Jug', 'Cat', 'Ball', 'Fish', 'Ram']\n"
     ]
    }
   ],
   "source": [
    "a=['Apple', 'Apple', 'Zebra', 'Jug', 'Cat', 'Ball', 'Fish', 'Ram', 'Shyam']\n",
    "a.remove('Shyam')\n",
    "a.remove('Apple')\n",
    "l=a.count('Apple')\n",
    "# doesnt remove duplicate value\n",
    "print(l)\n",
    "print(a)"
   ]
  },
  {
   "cell_type": "code",
   "execution_count": 2,
   "id": "e613bae1",
   "metadata": {},
   "outputs": [
    {
     "name": "stdout",
     "output_type": "stream",
     "text": [
      "['Zebra', 'Jug', 'Cat', 'Ball', 'Fish', 'Ram', 'Shyam']\n"
     ]
    }
   ],
   "source": [
    "a=['Apple', 'Apple', 'Zebra', 'Jug', 'Cat', 'Ball', 'Fish', 'Ram', 'Shyam']\n",
    "l=a.count('Apple')\n",
    "for i in range(l):\n",
    "    a.remove('Apple')\n",
    "print(a)"
   ]
  },
  {
   "cell_type": "code",
   "execution_count": 39,
   "id": "c51d12e7",
   "metadata": {},
   "outputs": [
    {
     "data": {
      "text/plain": [
       "0"
      ]
     },
     "execution_count": 39,
     "metadata": {},
     "output_type": "execute_result"
    }
   ],
   "source": [
    "a=['Apple', 'Apple', 'Zebra', 'Jug', 'Cat', 'Ball', 'Fish', 'Ram', 'Shyam']\n",
    "a.index('Apple')"
   ]
  },
  {
   "cell_type": "code",
   "execution_count": 47,
   "id": "ec17a2d3",
   "metadata": {},
   "outputs": [
    {
     "name": "stdout",
     "output_type": "stream",
     "text": [
      "0\n",
      "1\n"
     ]
    }
   ],
   "source": [
    "a=['Apple', 'Apple', 'Zebra', 'Jug', 'Cat', 'Ball', 'Fish', 'Ram', 'Shyam']\n",
    "l=len(a)\n",
    "for i in range(l):\n",
    "    if a[i]=='Apple':\n",
    "        \n",
    "        print(i)"
   ]
  },
  {
   "cell_type": "code",
   "execution_count": 50,
   "id": "a42a9851",
   "metadata": {},
   "outputs": [
    {
     "name": "stdout",
     "output_type": "stream",
     "text": [
      "['apple', 'Apple', 'Zebra', 'Jug', 'Cat', 'Ball', 'Fish', 'Ram', 'Shyam']\n",
      "['apple', 'apple', 'Zebra', 'Jug', 'Cat', 'Ball', 'Fish', 'Ram', 'Shyam']\n"
     ]
    }
   ],
   "source": [
    "a=['Apple', 'Apple', 'Zebra', 'Jug', 'Cat', 'Ball', 'Fish', 'Ram', 'Shyam']\n",
    "l=len(a)\n",
    "for i in range(l):\n",
    "    if a[i]=='Apple':\n",
    "        a[i]='apple'\n",
    "        print(a)"
   ]
  },
  {
   "cell_type": "code",
   "execution_count": 54,
   "id": "b6221ec3",
   "metadata": {},
   "outputs": [
    {
     "name": "stdout",
     "output_type": "stream",
     "text": [
      "Enter x= Apple\n",
      "Enter y= apple\n"
     ]
    },
    {
     "data": {
      "text/plain": [
       "['apple', 'apple', 'Zebra', 'Jug', 'Cat', 'Ball', 'Fish', 'Ram', 'Shyam']"
      ]
     },
     "execution_count": 54,
     "metadata": {},
     "output_type": "execute_result"
    }
   ],
   "source": [
    "a=['Apple', 'Apple', 'Zebra', 'Jug', 'Cat', 'Ball', 'Fish', 'Ram', 'Shyam']\n",
    "b=[]\n",
    "x=input('Enter x= ')\n",
    "y=input(\"Enter y= \")\n",
    "for i in a:\n",
    "    if i == x:\n",
    "        b.append(y)\n",
    "    else:\n",
    "        b.append(i)\n",
    "        \n",
    "b"
   ]
  },
  {
   "cell_type": "code",
   "execution_count": 58,
   "id": "feebf389",
   "metadata": {},
   "outputs": [
    {
     "name": "stdout",
     "output_type": "stream",
     "text": [
      "enter the name u want to search\n",
      "apple\n",
      "not here plz \n"
     ]
    }
   ],
   "source": [
    "a=['Apple', 'Ball', 'Cat',  'Dog']\n",
    "x=input(\"enter the name u want to search\\n\")\n",
    "if x in a:\n",
    "    print(\"Yes.Its in the position\",a.count(\"Apple\"))\n",
    "    \n",
    "else:\n",
    "    print(\"not here plz \")"
   ]
  },
  {
   "cell_type": "code",
   "execution_count": 59,
   "id": "28ece1a7",
   "metadata": {},
   "outputs": [],
   "source": [
    "#  WAP to search any value inside a list\n"
   ]
  },
  {
   "cell_type": "code",
   "execution_count": 74,
   "id": "5eccd95b",
   "metadata": {},
   "outputs": [
    {
     "name": "stdout",
     "output_type": "stream",
     "text": [
      "['Ram', 45, 'Kathmandu']\n",
      "Ram\n",
      "Shyam\n",
      "Hari\n",
      "[['Ram', 45, 'Kathmandu'], ['Shyam', 25, 'Bhaktapur'], ['Hari', 34, 'Lalitpur'], ['Sita', 45, 'Bhaktapur']]\n"
     ]
    }
   ],
   "source": [
    "                                # list inside the list (nested list)\n",
    "\n",
    "\n",
    "a=[[\"Ram\", 45, 'Kathmandu'],\n",
    "  ['Shyam',25, 'Bhaktapur'],\n",
    "  ['Hari', 34,'Lalitpur']]\n",
    "b=[[1,2,3],[4,5,6],[7,8,9]]\n",
    "l=len(a)\n",
    "print(a[0])\n",
    "print(a[0][0])\n",
    "print(a[1][0])\n",
    "print(a[2][0])\n",
    "\n",
    "a.append(['Sita',45,'Bhaktapur'])\n",
    "print(a)"
   ]
  },
  {
   "cell_type": "code",
   "execution_count": 65,
   "id": "9cb67360",
   "metadata": {},
   "outputs": [
    {
     "name": "stdout",
     "output_type": "stream",
     "text": [
      "['Ram', 45, 'Kathmandu']\n"
     ]
    },
    {
     "data": {
      "text/plain": [
       "['Hari', 34, 'Lalitpur']"
      ]
     },
     "execution_count": 65,
     "metadata": {},
     "output_type": "execute_result"
    }
   ],
   "source": [
    "print(a[0])\n",
    "a[2]"
   ]
  },
  {
   "cell_type": "code",
   "execution_count": 77,
   "id": "0f189d38",
   "metadata": {},
   "outputs": [
    {
     "name": "stdout",
     "output_type": "stream",
     "text": [
      "['Ram', 45, 'Kathmandu']\n",
      "['Ramesh', 65, 'Kathmandu']\n",
      "['Shyam', 25, 'Bhaktapur']\n",
      "['Hari', 34, 'Lalitpur']\n"
     ]
    }
   ],
   "source": [
    "a=[[\"Ram\", 45, 'Kathmandu'],\n",
    "  ['Shyam',25, 'Bhaktapur'],\n",
    "  ['Hari', 34,'Lalitpur']]\n",
    "b=[[1,2,3],[4,5,6],[7,8,9]]\n",
    "\n",
    "a.insert(1,['Ramesh',65,'Kathmandu'])\n",
    "\n",
    "for i in a:\n",
    "    print (i)"
   ]
  },
  {
   "cell_type": "code",
   "execution_count": 79,
   "id": "c155f46c",
   "metadata": {},
   "outputs": [
    {
     "name": "stdout",
     "output_type": "stream",
     "text": [
      "Enter a name:ram\n"
     ]
    }
   ],
   "source": [
    "a=[[\"Ram\", 45, 'Kathmandu'],\n",
    "  ['Shyam',25, 'Bhaktapur'],\n",
    "  ['Hari', 34,'Lalitpur']]\n",
    "\n",
    "search= input(\"Enter a name:\")\n",
    "for i in a:\n",
    "    if search in i:\n",
    "        print(i)"
   ]
  },
  {
   "cell_type": "code",
   "execution_count": 82,
   "id": "b24e8943",
   "metadata": {},
   "outputs": [
    {
     "data": {
      "text/plain": [
       "[['Ravan', 45, 'Kathmandu'],\n",
       " ['Shyam', 25, 'Bhaktapur'],\n",
       " ['Hari', 34, 'Lalitpur']]"
      ]
     },
     "execution_count": 82,
     "metadata": {},
     "output_type": "execute_result"
    }
   ],
   "source": [
    "a=[[\"Ram\", 45, 'Kathmandu'],\n",
    "  ['Shyam',25, 'Bhaktapur'],\n",
    "  ['Hari', 34,'Lalitpur']]\n",
    "a[0][0]=\"Ravan\"\n",
    "a"
   ]
  },
  {
   "cell_type": "code",
   "execution_count": null,
   "id": "df62d41c",
   "metadata": {},
   "outputs": [],
   "source": []
  }
 ],
 "metadata": {
  "kernelspec": {
   "display_name": "Python 3 (ipykernel)",
   "language": "python",
   "name": "python3"
  },
  "language_info": {
   "codemirror_mode": {
    "name": "ipython",
    "version": 3
   },
   "file_extension": ".py",
   "mimetype": "text/x-python",
   "name": "python",
   "nbconvert_exporter": "python",
   "pygments_lexer": "ipython3",
   "version": "3.9.12"
  }
 },
 "nbformat": 4,
 "nbformat_minor": 5
}
