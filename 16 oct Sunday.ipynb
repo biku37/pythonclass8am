{
 "cells": [
  {
   "cell_type": "code",
   "execution_count": 1,
   "id": "6887ef3c",
   "metadata": {},
   "outputs": [],
   "source": [
    "# Set{}\n",
    "# no indexing\n",
    "# unordered (dictionary wass also unordered in previous versions)\n",
    "# multiple but no duplicate data \n",
    "# mutable data \n",
    "# no lists(also set)(mutable) inside a set\n",
    "# but tuple(also string(immutable) inside set is possible\n",
    "# list or tuples can contain sets"
   ]
  },
  {
   "cell_type": "code",
   "execution_count": 5,
   "id": "dbadfa7d",
   "metadata": {},
   "outputs": [
    {
     "name": "stdout",
     "output_type": "stream",
     "text": [
      "<class 'set'>\n"
     ]
    },
    {
     "data": {
      "text/plain": [
       "set"
      ]
     },
     "execution_count": 5,
     "metadata": {},
     "output_type": "execute_result"
    }
   ],
   "source": [
    "s={1,2,3}\n",
    "s=set()\n",
    "print(type(s))\n",
    "type(s)"
   ]
  },
  {
   "cell_type": "code",
   "execution_count": 6,
   "id": "a51922ff",
   "metadata": {},
   "outputs": [
    {
     "name": "stdout",
     "output_type": "stream",
     "text": [
      "{34, 22, 23, 56, 89, 11}\n"
     ]
    },
    {
     "data": {
      "text/plain": [
       "{11, 22, 23, 34, 56, 89}"
      ]
     },
     "execution_count": 6,
     "metadata": {},
     "output_type": "execute_result"
    }
   ],
   "source": [
    "# unordered\n",
    "# prints unordered data\n",
    "\n",
    "s={34,56,22,89,34,11,23}\n",
    "print (s)\n",
    "s"
   ]
  },
  {
   "cell_type": "code",
   "execution_count": 7,
   "id": "ee87c48c",
   "metadata": {},
   "outputs": [
    {
     "ename": "TypeError",
     "evalue": "'set' object is not subscriptable",
     "output_type": "error",
     "traceback": [
      "\u001b[1;31m---------------------------------------------------------------------------\u001b[0m",
      "\u001b[1;31mTypeError\u001b[0m                                 Traceback (most recent call last)",
      "Input \u001b[1;32mIn [7]\u001b[0m, in \u001b[0;36m<cell line: 2>\u001b[1;34m()\u001b[0m\n\u001b[0;32m      1\u001b[0m s\u001b[38;5;241m=\u001b[39m{\u001b[38;5;241m34\u001b[39m,\u001b[38;5;241m56\u001b[39m,\u001b[38;5;241m22\u001b[39m,\u001b[38;5;241m89\u001b[39m,\u001b[38;5;241m34\u001b[39m,\u001b[38;5;241m11\u001b[39m,\u001b[38;5;241m23\u001b[39m}\n\u001b[1;32m----> 2\u001b[0m \u001b[38;5;28mprint\u001b[39m (\u001b[43ms\u001b[49m\u001b[43m[\u001b[49m\u001b[38;5;241;43m0\u001b[39;49m\u001b[43m]\u001b[49m)\n",
      "\u001b[1;31mTypeError\u001b[0m: 'set' object is not subscriptable"
     ]
    }
   ],
   "source": [
    "# no indexing\n",
    "\n",
    "s={34,56,22,89,34,11,23}\n",
    "print (s[0])"
   ]
  },
  {
   "cell_type": "code",
   "execution_count": 8,
   "id": "2ce11362",
   "metadata": {},
   "outputs": [
    {
     "name": "stdout",
     "output_type": "stream",
     "text": [
      "{34, 22, 23, 56, 89, 11}\n"
     ]
    }
   ],
   "source": [
    "# no duplicate data\n",
    "\n",
    "s={34,56,22,89,34,11,23,11,56}\n",
    "print(s)"
   ]
  },
  {
   "cell_type": "code",
   "execution_count": 10,
   "id": "cca984b6",
   "metadata": {},
   "outputs": [
    {
     "data": {
      "text/plain": [
       "[34, 11, 22, 23, 56, 89]"
      ]
     },
     "execution_count": 10,
     "metadata": {},
     "output_type": "execute_result"
    }
   ],
   "source": [
    "# remove duplicate values from a list\n",
    "\n",
    "s=[34,56,22,89,34,11,23,11,56]\n",
    "list(set(s))\n"
   ]
  },
  {
   "cell_type": "code",
   "execution_count": 11,
   "id": "df8e45f7",
   "metadata": {},
   "outputs": [
    {
     "name": "stdout",
     "output_type": "stream",
     "text": [
      "{'Cat', 'Ball', 'Apple'}\n"
     ]
    }
   ],
   "source": [
    "s= set()\n",
    "s.add('Apple')\n",
    "s.add('Ball')\n",
    "s.add('Cat')\n",
    "print(s)"
   ]
  },
  {
   "cell_type": "code",
   "execution_count": 12,
   "id": "9690b39d",
   "metadata": {},
   "outputs": [
    {
     "name": "stdout",
     "output_type": "stream",
     "text": [
      "Enter n=2\n",
      "Enter x=ram\n",
      "Enter x=ravan\n"
     ]
    },
    {
     "data": {
      "text/plain": [
       "{'ram', 'ravan'}"
      ]
     },
     "execution_count": 12,
     "metadata": {},
     "output_type": "execute_result"
    }
   ],
   "source": [
    "# s={} is a dictionary\n",
    "\n",
    "s=set()\n",
    "n=int(input(\"Enter n=\"))\n",
    "for i in range(n):\n",
    "    x=input(\"Enter x=\")\n",
    "    s.add(x)\n",
    "s"
   ]
  },
  {
   "cell_type": "code",
   "execution_count": 14,
   "id": "8edc3ec4",
   "metadata": {},
   "outputs": [
    {
     "data": {
      "text/plain": [
       "{22, 23, 34, 56, 89}"
      ]
     },
     "execution_count": 14,
     "metadata": {},
     "output_type": "execute_result"
    }
   ],
   "source": [
    "# values can be removed but not upgraded:replaced concatenation, enlargement(since no duplicate)\n",
    "\n",
    "s={34,56,22,89,34,11,23,11,56}\n",
    "s.remove(11)\n",
    "s"
   ]
  },
  {
   "cell_type": "code",
   "execution_count": 24,
   "id": "06473cbc",
   "metadata": {},
   "outputs": [
    {
     "name": "stdout",
     "output_type": "stream",
     "text": [
      "{'Sabin', 'Jack'}\n",
      "{'Naresh', 'Jack', 'Ram', 'Jobs', 'Sabin', 'Gates'}\n",
      "{'Ram', 'Jobs'}\n",
      "{'Ram', 'Jobs'}\n",
      "{'Naresh', 'Gates'}\n",
      "{'Naresh', 'Jack', 'Ram', 'Jobs', 'Sabin', 'Gates'}\n"
     ]
    }
   ],
   "source": [
    "# Set is always worked in a pair\n",
    "\n",
    "\n",
    "apple={\"Ram\",\"Jobs\",\"Jack\",\"Sabin\"}\n",
    "ms={'Gates','Naresh','Jack','Sabin'}\n",
    "print(apple.intersection(ms))\n",
    "print(apple.union(ms))\n",
    "print(apple.difference(ms))\n",
    "print(apple-ms)\n",
    "print(ms.difference(apple))\n",
    "apple.update(ms)\n",
    "print(apple)"
   ]
  },
  {
   "cell_type": "code",
   "execution_count": 28,
   "id": "3ee914f7",
   "metadata": {},
   "outputs": [
    {
     "name": "stdout",
     "output_type": "stream",
     "text": [
      "{'Putin', 'Kim', 'Jim'}\n"
     ]
    }
   ],
   "source": [
    "U={'Naresh', 'Jack', 'Ram', 'Jobs', 'Sabin', 'Gates','Jim','Kim','Putin'}\n",
    "apple={\"Ram\",\"Jobs\",\"Jack\",\"Sabin\"}\n",
    "ms={'Gates','Naresh','Jack','Sabin'}\n",
    "A=apple.union(ms)\n",
    "un=U-A\n",
    "print(un)"
   ]
  },
  {
   "cell_type": "code",
   "execution_count": 29,
   "id": "723af23e",
   "metadata": {},
   "outputs": [
    {
     "name": "stdout",
     "output_type": "stream",
     "text": [
      "{'Python', 'html'}\n",
      "50.0\n"
     ]
    }
   ],
   "source": [
    "job={\"Python\",\"html\",\"CSS\",\"django\"}\n",
    "u={'Python','html'}\n",
    "c=job.intersection(u)\n",
    "print(c)\n",
    "print(len(c)/len(job)*100)"
   ]
  },
  {
   "cell_type": "code",
   "execution_count": 30,
   "id": "cd65d1b2",
   "metadata": {},
   "outputs": [
    {
     "data": {
      "text/plain": [
       "[{1, 2, 3}, {4, 5, 6}]"
      ]
     },
     "execution_count": 30,
     "metadata": {},
     "output_type": "execute_result"
    }
   ],
   "source": [
    "# Set inside list \n",
    "l=[{1,2,3},{4,5,6}]\n",
    "l"
   ]
  },
  {
   "cell_type": "code",
   "execution_count": 31,
   "id": "bd4c2382",
   "metadata": {},
   "outputs": [
    {
     "data": {
      "text/plain": [
       "[{1, 2, 3}, {4, 5, 6}]"
      ]
     },
     "execution_count": 31,
     "metadata": {},
     "output_type": "execute_result"
    }
   ],
   "source": [
    "# Set inside list \n",
    "t=[{1,2,3},{4,5,6}]\n",
    "t"
   ]
  },
  {
   "cell_type": "code",
   "execution_count": 34,
   "id": "a7f08060",
   "metadata": {},
   "outputs": [
    {
     "data": {
      "text/plain": [
       "dict"
      ]
     },
     "execution_count": 34,
     "metadata": {},
     "output_type": "execute_result"
    }
   ],
   "source": [
    "d={'apple':{\"Ram\",\"Jobs\",\"Jack\",\"Sabin\"},\n",
    "  'ms':{'Gates','Naresh','Jack','Sabin'},\n",
    "  'intersection':{'Sabin', 'Jack'}}\n",
    "type(d)"
   ]
  },
  {
   "cell_type": "code",
   "execution_count": 35,
   "id": "8b2ce895",
   "metadata": {},
   "outputs": [
    {
     "data": {
      "text/plain": [
       "False"
      ]
     },
     "execution_count": 35,
     "metadata": {},
     "output_type": "execute_result"
    }
   ],
   "source": [
    "# isdisjoint(),subset(),superset(), issubset(),issuperset()\n",
    "\n",
    "apple.isdisjoint(ms)"
   ]
  },
  {
   "cell_type": "code",
   "execution_count": null,
   "id": "a04de3ca",
   "metadata": {},
   "outputs": [],
   "source": []
  }
 ],
 "metadata": {
  "kernelspec": {
   "display_name": "Python 3 (ipykernel)",
   "language": "python",
   "name": "python3"
  },
  "language_info": {
   "codemirror_mode": {
    "name": "ipython",
    "version": 3
   },
   "file_extension": ".py",
   "mimetype": "text/x-python",
   "name": "python",
   "nbconvert_exporter": "python",
   "pygments_lexer": "ipython3",
   "version": "3.9.12"
  }
 },
 "nbformat": 4,
 "nbformat_minor": 5
}
