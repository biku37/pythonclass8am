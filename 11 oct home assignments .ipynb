{
 "cells": [
  {
   "cell_type": "code",
   "execution_count": 1,
   "id": "886c65b5",
   "metadata": {},
   "outputs": [],
   "source": [
    "# WAP to create a matrix\n",
    "# r=\n",
    "# c=\n",
    "# x="
   ]
  },
  {
   "cell_type": "code",
   "execution_count": 1,
   "id": "2b87efb3",
   "metadata": {},
   "outputs": [],
   "source": [
    "#  WAP to search any value inside a list\n",
    "#  WAP to remove duplicate data in list inside list"
   ]
  },
  {
   "cell_type": "code",
   "execution_count": 6,
   "id": "d593d9e2",
   "metadata": {},
   "outputs": [
    {
     "name": "stdout",
     "output_type": "stream",
     "text": [
      "Enter the element to be changed:ram\n",
      "Enter the element to changed:Ram\n",
      "['Ram', 'shyam', 'kale', 'bikesh']\n"
     ]
    }
   ],
   "source": [
    "a=['ram','shyam','kale','bikesh']\n",
    "b=list()\n",
    "x=input(\"Enter the element to be changed:\")\n",
    "y=input(\"Enter the element to changed:\")\n",
    "for i in a:\n",
    "    if x==i:\n",
    "        b.append(y)\n",
    "    else:\n",
    "        b.append(i)\n",
    "        \n",
    "print(b)"
   ]
  },
  {
   "cell_type": "code",
   "execution_count": 2,
   "id": "64b252b3",
   "metadata": {},
   "outputs": [
    {
     "name": "stdout",
     "output_type": "stream",
     "text": [
      "Enter the no of rows :2\n",
      "Enter the no of column :2\n",
      "Enter the values of x:1\n",
      "Enter the values of x:2\n",
      "Enter the values of x:2\n",
      "Enter the values of x:1\n"
     ]
    },
    {
     "data": {
      "text/plain": [
       "[[1, 2], [2, 1]]"
      ]
     },
     "execution_count": 2,
     "metadata": {},
     "output_type": "execute_result"
    }
   ],
   "source": [
    "# matrix === list inside list or tuple inside tuple \n",
    "\n",
    "\n",
    "# m=  [[1,2,3],  ((((big list))))\n",
    "#     [4,5,6]]\n",
    "# n=  [1,2,3] (((small list)))\n",
    "\n",
    "\n",
    "r=int(input(\"Enter the no of rows :\"))\n",
    "c=int(input(\"Enter the no of column :\"))\n",
    "m=[]\n",
    "for i in range(r):\n",
    "    n=[]\n",
    "    for j in range(c):\n",
    "        x=int(input(\"Enter the values of x:\"))\n",
    "        n.append(x)\n",
    "    m.append(n)\n",
    "m\n",
    "   "
   ]
  },
  {
   "cell_type": "code",
   "execution_count": null,
   "id": "19551824",
   "metadata": {},
   "outputs": [],
   "source": [
    "a=[]\n",
    "x= int(input(\"Enter the values of list:\"))\n",
    "for i in range x:"
   ]
  }
 ],
 "metadata": {
  "kernelspec": {
   "display_name": "Python 3 (ipykernel)",
   "language": "python",
   "name": "python3"
  },
  "language_info": {
   "codemirror_mode": {
    "name": "ipython",
    "version": 3
   },
   "file_extension": ".py",
   "mimetype": "text/x-python",
   "name": "python",
   "nbconvert_exporter": "python",
   "pygments_lexer": "ipython3",
   "version": "3.9.12"
  }
 },
 "nbformat": 4,
 "nbformat_minor": 5
}
