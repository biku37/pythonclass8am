{
 "cells": [
  {
   "cell_type": "code",
   "execution_count": 1,
   "id": "d0561f93",
   "metadata": {},
   "outputs": [
    {
     "name": "stdout",
     "output_type": "stream",
     "text": [
      "Defaulting to user installation because normal site-packages is not writeable\n",
      "Collecting mysql-connector\n",
      "  Downloading mysql-connector-2.2.9.tar.gz (11.9 MB)\n",
      "Building wheels for collected packages: mysql-connector\n",
      "  Building wheel for mysql-connector (setup.py): started\n",
      "  Building wheel for mysql-connector (setup.py): finished with status 'done'\n",
      "  Created wheel for mysql-connector: filename=mysql_connector-2.2.9-cp39-cp39-win_amd64.whl size=247961 sha256=ec5f3a0956fd2389c99602fca6731ba35837e35a9af0818c45a8f326eaa5cc88\n",
      "  Stored in directory: c:\\users\\anish\\appdata\\local\\pip\\cache\\wheels\\7b\\14\\39\\5aad423666e827dfe9a1fbcd111ac17171e7c9865d570780ce\n",
      "Successfully built mysql-connector\n",
      "Installing collected packages: mysql-connector\n",
      "Successfully installed mysql-connector-2.2.9\n"
     ]
    }
   ],
   "source": [
    "!pip install mysql-connector"
   ]
  },
  {
   "cell_type": "code",
   "execution_count": 5,
   "id": "989e8afe",
   "metadata": {},
   "outputs": [],
   "source": [
    "import mysql.connector  \t\t#importing database\n",
    "\n",
    "database = mysql.connector.connect(\n",
    "  host=\"localhost\",\n",
    "  user=\"root\",\n",
    "  password=\"\"\n",
    ")\n",
    "db = database.cursor() \n",
    "\n",
    "db.execute(\"CREATE DATABASE pythons\")\n"
   ]
  },
  {
   "cell_type": "code",
   "execution_count": 19,
   "id": "162988b6",
   "metadata": {},
   "outputs": [],
   "source": [
    "import mysql.connector  \t\t#importing database\n",
    "\n",
    "database = mysql.connector.connect(\n",
    "    host=\"localhost\",\n",
    "    user=\"root\",\n",
    "    password=\"\",\n",
    "    database='class8am'\n",
    ")\n",
    "db = database.cursor()"
   ]
  },
  {
   "cell_type": "code",
   "execution_count": 20,
   "id": "52c6754a",
   "metadata": {},
   "outputs": [
    {
     "name": "stdout",
     "output_type": "stream",
     "text": [
      "(2, 'Bikash gautam', 98.0, 43.0, 54.0, 54.0, 54.0, 465.0, 67.0, 'B')\n",
      "(3, 'Raavan ', 90.0, 99.0, 98.0, 98.0, 99.0, 490.0, 99.0, 'A')\n",
      "(1, 'Rabindra', 87.0, 87.0, 76.0, 67.0, 67.0, 467.0, 67.0, 'A')\n"
     ]
    }
   ],
   "source": [
    "db.execute('SELECT * FROM student')      #(\"SELECT * FROM student”)\n",
    "result =db.fetchall()\n",
    "\n",
    "for x in result:\n",
    "  print(x)"
   ]
  },
  {
   "cell_type": "code",
   "execution_count": 32,
   "id": "0c198a4b",
   "metadata": {},
   "outputs": [],
   "source": [
    "sql='''INSERT INTO student (sn, name, physics, chemistry, maths, english, nepali, total, per, grade) \n",
    "VALUES (4, 'Allu', 87, 87, 76, 67, 67, 467, 67, 'A');'''\n",
    "db.execute(sql)\n",
    "database.commit()"
   ]
  },
  {
   "cell_type": "code",
   "execution_count": 40,
   "id": "651731ae",
   "metadata": {},
   "outputs": [
    {
     "name": "stdout",
     "output_type": "stream",
     "text": [
      "Enter name:Chame\n",
      "Enter physics =89\n",
      "Enter chemistry =87\n",
      "Enter math =88\n",
      "Enter english =77\n",
      "Enter nepali =77\n"
     ]
    }
   ],
   "source": [
    "name=input(\"Enter name: \")\n",
    "physics = float(input(\"Enter physics = \"))\n",
    "chemistry = float(input(\"Enter chemistry = \"))\n",
    "math = float(input(\"Enter math = \"))\n",
    "english = float(input(\"Enter english = \"))\n",
    "nepali = float(input(\"Enter nepali = \"))\n",
    "\n",
    "total = physics+chemistry+math+english+nepali\n",
    "per = total/5\n",
    "if per>80 or per==80:\n",
    "    grade = 'A'\n",
    "elif per> 60 or per ==60:\n",
    "    grade = 'B'\n",
    "elif per > 45 or per == 45:\n",
    "    grade = 'C'\n",
    "else:\n",
    "    grade = 'F'\n",
    "    \n",
    "sql=f'''INSERT INTO student (name, physics, chemistry, maths, english, nepali, total, per, grade) \n",
    "VALUES ('{name}', {physics}, {chemistry}, {math}, {english}, {nepali}, {total}, {per}, '{grade}');'''\n",
    "db.execute(sql)\n",
    "database.commit()"
   ]
  },
  {
   "cell_type": "code",
   "execution_count": 41,
   "id": "07f16921",
   "metadata": {},
   "outputs": [],
   "source": [
    "sql = \"DELETE FROM student WHERE sn = 4\"\n",
    "\n",
    "db.execute(sql)\n",
    "\n",
    "database.commit()"
   ]
  },
  {
   "cell_type": "code",
   "execution_count": 43,
   "id": "05886583",
   "metadata": {},
   "outputs": [],
   "source": [
    "# update\n",
    "\n",
    "ql = \"UPDATE student SET name = 'Kangska' WHERE name = 'Kangsa'\"\n",
    "db.execute(sql)\n",
    "database.commit()\n"
   ]
  },
  {
   "cell_type": "code",
   "execution_count": null,
   "id": "098a6186",
   "metadata": {},
   "outputs": [],
   "source": []
  }
 ],
 "metadata": {
  "kernelspec": {
   "display_name": "Python 3 (ipykernel)",
   "language": "python",
   "name": "python3"
  },
  "language_info": {
   "codemirror_mode": {
    "name": "ipython",
    "version": 3
   },
   "file_extension": ".py",
   "mimetype": "text/x-python",
   "name": "python",
   "nbconvert_exporter": "python",
   "pygments_lexer": "ipython3",
   "version": "3.9.12"
  }
 },
 "nbformat": 4,
 "nbformat_minor": 5
}
