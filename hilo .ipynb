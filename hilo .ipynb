{
 "cells": [
  {
   "cell_type": "code",
   "execution_count": 4,
   "id": "ba573a0a",
   "metadata": {},
   "outputs": [
    {
     "name": "stdout",
     "output_type": "stream",
     "text": [
      "<__main__.Dog object at 0x000001AA1A9B1BE0>\n",
      "bark\n",
      "<class '__main__.Dog'>\n"
     ]
    }
   ],
   "source": [
    "class Dog:\n",
    "    def bark(self):\n",
    "        print(\"bark\")\n",
    "        \n",
    "d= Dog()\n",
    "print(d)\n",
    "d.bark()\n",
    "print(type(d))"
   ]
  },
  {
   "cell_type": "code",
   "execution_count": 28,
   "id": "a063bd7a",
   "metadata": {},
   "outputs": [
    {
     "name": "stdout",
     "output_type": "stream",
     "text": [
      "heari\n",
      "i am not a dog\n",
      "45\n",
      "heari\n",
      "None\n",
      "35\n"
     ]
    }
   ],
   "source": [
    "class Dog:\n",
    "    def __init__(self,name,age):\n",
    "        self.name=name\n",
    "        self.age=age\n",
    "        print(name)\n",
    "        \n",
    "    def get_name(self):\n",
    "        return self.name\n",
    "    def get_age(self):\n",
    "        return self.age\n",
    "    def set_age(self,age):\n",
    "        self.age=age\n",
    "    \n",
    "    def meow(self):\n",
    "        print(\"i am not a dog\")\n",
    "    def bark(self):\n",
    "        print(\"bark\")\n",
    "d=Dog(\"heari\",45)\n",
    "d.meow()\n",
    "# Dog().meow()\n",
    "print(d.get_age())\n",
    "print(d.get_name())\n",
    "print(d.set_age(35))\n",
    "print(d.get_age())\n"
   ]
  },
  {
   "cell_type": "code",
   "execution_count": null,
   "id": "231ffab0",
   "metadata": {},
   "outputs": [],
   "source": [
    "# object \n",
    "class Student:\n",
    "    def__init__(self,name,grade):\n",
    "        self.name= name\n",
    "        self.age= age\n",
    "        self.grade= grade\n",
    "        \n",
    "    def get_grade(self):\n",
    "        return self.grade\n",
    "    "
   ]
  },
  {
   "cell_type": "code",
   "execution_count": 31,
   "id": "2ba62328",
   "metadata": {},
   "outputs": [
    {
     "name": "stdout",
     "output_type": "stream",
     "text": [
      "gizmo\n",
      "2\n",
      "3\n"
     ]
    }
   ],
   "source": [
    "class Dog:\n",
    "    def __init__(self,name,age):\n",
    "        self.name=name\n",
    "        self.age= age\n",
    "        \n",
    "    def get_name(self):\n",
    "        return self.name\n",
    "    def get_age(self):\n",
    "        return self.age\n",
    "    def set_age(self,age):\n",
    "        self.age=age\n",
    "        \n",
    "d=Dog(\"gizmo\",2)\n",
    "print(d.get_name())\n",
    "print(d.get_age())\n",
    "d.set_age(3)\n",
    "print(d.get_age())"
   ]
  },
  {
   "cell_type": "code",
   "execution_count": 4,
   "id": "1046d0bf",
   "metadata": {},
   "outputs": [
    {
     "name": "stdout",
     "output_type": "stream",
     "text": [
      "Enter the number:9\n",
      "the factorial is  362880\n"
     ]
    }
   ],
   "source": [
    "def fac(n):\n",
    "    if n==1:\n",
    "        return 1\n",
    "    else:\n",
    "        return n* fac(n-1)\n",
    "n=int(input(\"Enter the number:\"))\n",
    "print(\"the factorial is \", fac(n))"
   ]
  },
  {
   "cell_type": "code",
   "execution_count": 8,
   "id": "f6787a9f",
   "metadata": {},
   "outputs": [
    {
     "name": "stdout",
     "output_type": "stream",
     "text": [
      "Enter the number:5\n",
      "120\n"
     ]
    }
   ],
   "source": [
    "def fac(n):\n",
    "    if n==1:\n",
    "        return 1\n",
    "    else:\n",
    "        return n* fac(n-1)\n",
    "    \n",
    "#     5*fac(4)\n",
    "#     5*4*fac(3)  \n",
    "#     5*4*3*fac(2)\n",
    "#     5*4*3*2*fac(1)\n",
    "#     5*4*3*2*1   \n",
    "    \n",
    "    \n",
    "n= int(input(\"Enter the number:\"))\n",
    "print(fac(n))"
   ]
  },
  {
   "cell_type": "code",
   "execution_count": 10,
   "id": "be491f6d",
   "metadata": {},
   "outputs": [
    {
     "name": "stdout",
     "output_type": "stream",
     "text": [
      "Enter the highest range number:\n",
      "21\n",
      "The composite numbers are:\n",
      "\n",
      "4 6 8 9 10 12 14 15 16 18 20 21 \n",
      "The prime numbers are:\n",
      "\n",
      "1 2 3 5 7 11 13 17 19 "
     ]
    }
   ],
   "source": [
    "n= int(input(\"Enter the highest range number:\\n\"))\n",
    "print(\"The composite numbers are:\\n\")\n",
    "for i in range(1,n+1):\n",
    "    if n>1:\n",
    "        for j in range(2,i):\n",
    "            if i%j==0:\n",
    "                print(i,end=(\" \"))\n",
    "                break\n",
    "print(\"\\nThe prime numbers are:\\n\")\n",
    "for i in range(1,n+1):\n",
    "    if n>1:\n",
    "        for j in range(2,i):\n",
    "            if i%j==0:\n",
    "                break\n",
    "        else:\n",
    "            print(i,end=(\" \"))\n",
    "                "
   ]
  },
  {
   "cell_type": "code",
   "execution_count": 4,
   "id": "4d6dc82b",
   "metadata": {},
   "outputs": [
    {
     "name": "stdout",
     "output_type": "stream",
     "text": [
      "Enter the number to check prime or composite:\n",
      "8\n",
      "The given number is composite.\n"
     ]
    }
   ],
   "source": [
    "n= int(input(\"Enter the number to check prime or composite:\\n\"))\n",
    "for i in range(2,n):\n",
    "    if n%i==0:\n",
    "        print (\"The given number is composite.\")\n",
    "        break\n",
    "\n",
    "# the TAB keeps the code in for loop... remove TAB to get out of loop        \n",
    "#     else:\n",
    "#         print (\"The given number is prime.\")\n",
    "    \n",
    "else:\n",
    "    print (\"The given number is prime.\")\n",
    "        "
   ]
  },
  {
   "cell_type": "code",
   "execution_count": 11,
   "id": "28039f53",
   "metadata": {},
   "outputs": [
    {
     "name": "stdout",
     "output_type": "stream",
     "text": [
      "Enter the no upto which the sum is needed:10\n",
      "55.0\n"
     ]
    }
   ],
   "source": [
    "def sum(n):\n",
    "    if n==1:\n",
    "        return 1\n",
    "    else:\n",
    "        return (n*(n+1))/2\n",
    "    \n",
    "#     5=5+4\n",
    "#     4=4+3+2+1\n",
    "    \n",
    "n= int(input(\"Enter the no upto which the sum is needed:\"))\n",
    "print(sum(n))"
   ]
  },
  {
   "cell_type": "code",
   "execution_count": 3,
   "id": "26658be3",
   "metadata": {},
   "outputs": [
    {
     "name": "stdout",
     "output_type": "stream",
     "text": [
      "Enter the number:8\n",
      "8\n",
      "6\n",
      "4\n",
      "2\n",
      "2\n"
     ]
    }
   ],
   "source": [
    "def even(n):\n",
    "    print(n)\n",
    "    if n%2!=0:\n",
    "        print(\"Please enter an even number:\")\n",
    "    elif n==2:\n",
    "        return n\n",
    "    else:\n",
    "        return even(n-2)\n",
    "    \n",
    "n=int(input(\"Enter the number:\"))\n",
    "print(even(n))"
   ]
  }
 ],
 "metadata": {
  "kernelspec": {
   "display_name": "Python 3 (ipykernel)",
   "language": "python",
   "name": "python3"
  },
  "language_info": {
   "codemirror_mode": {
    "name": "ipython",
    "version": 3
   },
   "file_extension": ".py",
   "mimetype": "text/x-python",
   "name": "python",
   "nbconvert_exporter": "python",
   "pygments_lexer": "ipython3",
   "version": "3.9.12"
  }
 },
 "nbformat": 4,
 "nbformat_minor": 5
}
