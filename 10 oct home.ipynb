{
 "cells": [
  {
   "cell_type": "code",
   "execution_count": 2,
   "id": "9cde7291",
   "metadata": {},
   "outputs": [
    {
     "name": "stdout",
     "output_type": "stream",
     "text": [
      "Enter the number to check for prime or not :7\n",
      "The number is prime number 7\n"
     ]
    }
   ],
   "source": [
    "n=int(input(\"Enter the number to check for prime or not : \"))\n",
    "if n>1:\n",
    "    for i in range (2,n):\n",
    "        if n%i==0:\n",
    "            print(\"The number is composite number\", n)\n",
    "            break\n",
    "        \n",
    "\n",
    "    else:\n",
    "        print(\"The number is prime number\", n)\n",
    "        \n",
    "else:\n",
    "    print (\"The number is none \")\n",
    "        "
   ]
  },
  {
   "cell_type": "code",
   "execution_count": 8,
   "id": "b2fe6ec5",
   "metadata": {},
   "outputs": [
    {
     "name": "stdout",
     "output_type": "stream",
     "text": [
      "Enter the no of items:2\n",
      "Enter the items:ram\n",
      "Enter the items:shyam\n",
      "['ram', 'shyam']\n"
     ]
    }
   ],
   "source": [
    "a=[]\n",
    "n=int(input(\"Enter the no of items: \"))\n",
    "for i in range(n):\n",
    "    x=input(\"Enter the itmes:\")\n",
    "    \n",
    "#  a is a list so x also should be a list\n",
    "    a=a+[x]\n",
    "    \n",
    "print(a)"
   ]
  },
  {
   "cell_type": "code",
   "execution_count": 15,
   "id": "05371a5b",
   "metadata": {},
   "outputs": [
    {
     "name": "stdout",
     "output_type": "stream",
     "text": [
      "Enter the number of rows:2\n",
      "Enter the no of columns:\n"
     ]
    },
    {
     "ename": "ValueError",
     "evalue": "invalid literal for int() with base 10: ''",
     "output_type": "error",
     "traceback": [
      "\u001b[1;31m---------------------------------------------------------------------------\u001b[0m",
      "\u001b[1;31mValueError\u001b[0m                                Traceback (most recent call last)",
      "Input \u001b[1;32mIn [15]\u001b[0m, in \u001b[0;36m<cell line: 2>\u001b[1;34m()\u001b[0m\n\u001b[0;32m      1\u001b[0m r\u001b[38;5;241m=\u001b[39m\u001b[38;5;28mint\u001b[39m(\u001b[38;5;28minput\u001b[39m(\u001b[38;5;124m\"\u001b[39m\u001b[38;5;124mEnter the no of rows:\u001b[39m\u001b[38;5;124m\"\u001b[39m))\n\u001b[1;32m----> 2\u001b[0m c\u001b[38;5;241m=\u001b[39m\u001b[38;5;28;43mint\u001b[39;49m\u001b[43m(\u001b[49m\u001b[38;5;28;43minput\u001b[39;49m\u001b[43m(\u001b[49m\u001b[38;5;124;43m\"\u001b[39;49m\u001b[38;5;124;43mEnter the no of columns:\u001b[39;49m\u001b[38;5;124;43m\"\u001b[39;49m\u001b[43m)\u001b[49m\u001b[43m)\u001b[49m\n\u001b[0;32m      3\u001b[0m m\u001b[38;5;241m=\u001b[39m[]\n\u001b[0;32m      4\u001b[0m \u001b[38;5;28;01mfor\u001b[39;00m i \u001b[38;5;129;01min\u001b[39;00m \u001b[38;5;28mrange\u001b[39m (r):\n",
      "\u001b[1;31mValueError\u001b[0m: invalid literal for int() with base 10: ''"
     ]
    }
   ],
   "source": [
    "r=int(input(\"Enter the no of rows:\"))\n",
    "c=int(input(\"Enter the no of columns:\"))\n",
    "m=[]\n",
    "for i in range (r):\n",
    "    n=[]\n",
    "    for j in range(c):\n",
    "        x=input(\"Enter the itmes:\")\n",
    "        n=n+[x]\n",
    "        print(n)\n",
    "print(m)"
   ]
  },
  {
   "cell_type": "code",
   "execution_count": 7,
   "id": "1cc273db",
   "metadata": {},
   "outputs": [
    {
     "name": "stdout",
     "output_type": "stream",
     "text": [
      "Enter the number to check for prime or not :7\n",
      "prime number 1\n",
      "2\n",
      "3\n",
      "4\n",
      "5\n",
      "6\n",
      "prime number 7\n"
     ]
    }
   ],
   "source": [
    "n=int(input(\"Enter the number to check for prime or not : \"))\n",
    "for i in range(1,n+1):\n",
    "    if n>1:\n",
    "        for j in range (2,n):\n",
    "            if i%j==0:\n",
    "                print(i)\n",
    "                break\n",
    "            \n",
    "    \n",
    "        else:\n",
    "            print(\"prime number\", i)\n",
    "            \n",
    "#     else:\n",
    "#         print (\"The number is none \")"
   ]
  }
 ],
 "metadata": {
  "kernelspec": {
   "display_name": "Python 3 (ipykernel)",
   "language": "python",
   "name": "python3"
  },
  "language_info": {
   "codemirror_mode": {
    "name": "ipython",
    "version": 3
   },
   "file_extension": ".py",
   "mimetype": "text/x-python",
   "name": "python",
   "nbconvert_exporter": "python",
   "pygments_lexer": "ipython3",
   "version": "3.9.12"
  }
 },
 "nbformat": 4,
 "nbformat_minor": 5
}
