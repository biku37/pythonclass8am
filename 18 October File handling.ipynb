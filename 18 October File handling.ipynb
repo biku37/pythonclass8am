{
 "cells": [
  {
   "cell_type": "code",
   "execution_count": 2,
   "id": "6deb414b",
   "metadata": {},
   "outputs": [],
   "source": [
    "# file=<open('<file_path>','<mode>')\n",
    "# file.clode()"
   ]
  },
  {
   "cell_type": "code",
   "execution_count": 3,
   "id": "9a5806a8",
   "metadata": {},
   "outputs": [],
   "source": [
    "# with open('file_name>','<mode>') as file:\n",
    "#          <operations>"
   ]
  },
  {
   "cell_type": "code",
   "execution_count": 4,
   "id": "e5c49bf1",
   "metadata": {},
   "outputs": [],
   "source": [
    "# mode\n",
    "# read---- 'r'\n",
    "# create-- 'x'\n",
    "# write-=---'w'\n",
    "# append==='a'"
   ]
  },
  {
   "cell_type": "code",
   "execution_count": 1,
   "id": "4caa5b63",
   "metadata": {},
   "outputs": [
    {
     "name": "stdout",
     "output_type": "stream",
     "text": [
      "The file is already created\n"
     ]
    }
   ],
   "source": [
    "try:\n",
    "    file= open('new_file.txt','x')\n",
    "    file.close()\n",
    "except:\n",
    "    print(\"The file is already created\")"
   ]
  },
  {
   "cell_type": "code",
   "execution_count": 44,
   "id": "1ec366f6",
   "metadata": {},
   "outputs": [
    {
     "name": "stdout",
     "output_type": "stream",
     "text": [
      "1. Hello Maadar\n",
      "2. Hello Baadar\n",
      "\n",
      "\n"
     ]
    }
   ],
   "source": [
    "# Read file \n",
    "\n",
    "file= open('new_file.txt','r')\n",
    "x=file.read()\n",
    "print(x)\n",
    "file.close()"
   ]
  },
  {
   "cell_type": "code",
   "execution_count": 14,
   "id": "f8ac7dda",
   "metadata": {},
   "outputs": [
    {
     "data": {
      "text/plain": [
       "['1. Hello Maadar', '2. hello Madar']"
      ]
     },
     "execution_count": 14,
     "metadata": {},
     "output_type": "execute_result"
    }
   ],
   "source": [
    "#convert to list\n",
    "\n",
    "x.split('\\n')     #converts to list"
   ]
  },
  {
   "cell_type": "code",
   "execution_count": 20,
   "id": "224457d3",
   "metadata": {},
   "outputs": [
    {
     "name": "stdout",
     "output_type": "stream",
     "text": [
      "Enter n:1\n"
     ]
    },
    {
     "data": {
      "text/plain": [
       "'2. hello Madar'"
      ]
     },
     "execution_count": 20,
     "metadata": {},
     "output_type": "execute_result"
    }
   ],
   "source": [
    "n= int(input(\"Enter n:\"))\n",
    "x.split('\\n')[n] "
   ]
  },
  {
   "cell_type": "code",
   "execution_count": 17,
   "id": "5ee3c5be",
   "metadata": {},
   "outputs": [
    {
     "name": "stdout",
     "output_type": "stream",
     "text": [
      "Enter n:1\n"
     ]
    },
    {
     "data": {
      "text/plain": [
       "'1. Hello Maadar'"
      ]
     },
     "execution_count": 17,
     "metadata": {},
     "output_type": "execute_result"
    }
   ],
   "source": [
    "n= int(input(\"Enter n:\"))\n",
    "x.split('\\n')[n-1]           #(((((#line no 1 becomes the first element of list ie index =0)))))"
   ]
  },
  {
   "cell_type": "code",
   "execution_count": 22,
   "id": "dac3c268",
   "metadata": {},
   "outputs": [],
   "source": [
    "# creates and edits the file ::\n",
    "with open('data.txt','w') as file:\n",
    "    file.write('Hello world')"
   ]
  },
  {
   "cell_type": "code",
   "execution_count": 28,
   "id": "7a40d18a",
   "metadata": {},
   "outputs": [
    {
     "name": "stdout",
     "output_type": "stream",
     "text": [
      "Enter n:2\n",
      "Enter name=Raavan\n",
      "Enter age=23\n",
      "Enter add=lanka\n",
      "Enter name=kangsa\n",
      "Enter age=2342\n",
      "Enter add=ayodhya\n"
     ]
    }
   ],
   "source": [
    "s=\"\"\n",
    "n=int(input(\"Enter n:\"))\n",
    "for i in range(n):\n",
    "    name= input(\"Enter name=\")\n",
    "    age= int(input(\"Enter age=\"))\n",
    "    add= input(\"Enter add=\")\n",
    "    s=s+f\"{name}{age}{add}\\n\"\n",
    "    \n",
    "    \n",
    "with open('data.txt','w') as file:\n",
    "    file.write(s)"
   ]
  },
  {
   "cell_type": "code",
   "execution_count": 29,
   "id": "1a6433a2",
   "metadata": {},
   "outputs": [
    {
     "data": {
      "text/plain": [
       "'C:\\\\Users\\\\anish\\\\Untitled Folder'"
      ]
     },
     "execution_count": 29,
     "metadata": {},
     "output_type": "execute_result"
    }
   ],
   "source": [
    "pwd"
   ]
  },
  {
   "cell_type": "code",
   "execution_count": 34,
   "id": "0a8e8dfd",
   "metadata": {},
   "outputs": [
    {
     "name": "stdout",
     "output_type": "stream",
     "text": [
      "Enter n = 1\n",
      "Enter namealu\n",
      "Enter price = 25\n",
      "Enter quantity = 2\n",
      " alu,25, 2, 50\n",
      "\n"
     ]
    }
   ],
   "source": [
    "s = \"\"\n",
    "bill = str()\n",
    "n = int(input(\"Enter n = \"))\n",
    "for i in range(n):\n",
    "    name = input(\"Enter name\")\n",
    "    price = int(input(\"Enter price = \"))\n",
    "    quantity = int(input(\"Enter quantity = \"))\n",
    "    total = price*quantity\n",
    "    all_total = all_total+total\n",
    "    bill = f\" {name},{price}, {quantity}, {total}\\n\"\n",
    "    s=s+bill\n",
    "print(s)\n",
    "with open('data.csv','w') as file:\n",
    "    file.write('Name,Price,Quantity,Total\\n')\n",
    "    file.write(s)"
   ]
  },
  {
   "cell_type": "markdown",
   "id": "cb5b5aa3",
   "metadata": {},
   "source": [
    "pip install pandas\n",
    "\n",
    "import pandas as pd\n",
    "df = pd.read_csv('data.csv')\n",
    "df"
   ]
  },
  {
   "cell_type": "code",
   "execution_count": 35,
   "id": "08fd7a76",
   "metadata": {},
   "outputs": [
    {
     "data": {
      "text/html": [
       "<div>\n",
       "<style scoped>\n",
       "    .dataframe tbody tr th:only-of-type {\n",
       "        vertical-align: middle;\n",
       "    }\n",
       "\n",
       "    .dataframe tbody tr th {\n",
       "        vertical-align: top;\n",
       "    }\n",
       "\n",
       "    .dataframe thead th {\n",
       "        text-align: right;\n",
       "    }\n",
       "</style>\n",
       "<table border=\"1\" class=\"dataframe\">\n",
       "  <thead>\n",
       "    <tr style=\"text-align: right;\">\n",
       "      <th></th>\n",
       "      <th>Name</th>\n",
       "      <th>Price</th>\n",
       "      <th>Quantity</th>\n",
       "      <th>Total</th>\n",
       "    </tr>\n",
       "  </thead>\n",
       "  <tbody>\n",
       "    <tr>\n",
       "      <th>0</th>\n",
       "      <td>alu</td>\n",
       "      <td>25</td>\n",
       "      <td>2</td>\n",
       "      <td>50</td>\n",
       "    </tr>\n",
       "  </tbody>\n",
       "</table>\n",
       "</div>"
      ],
      "text/plain": [
       "   Name  Price  Quantity  Total\n",
       "0   alu     25         2     50"
      ]
     },
     "execution_count": 35,
     "metadata": {},
     "output_type": "execute_result"
    }
   ],
   "source": [
    "#pip install pandas to install pandas in other softwares\n",
    "\n",
    "import pandas as pd\n",
    "df = pd.read_csv('data.csv')\n",
    "df"
   ]
  },
  {
   "cell_type": "code",
   "execution_count": 38,
   "id": "1d10de3b",
   "metadata": {},
   "outputs": [],
   "source": [
    "import csv\n",
    "a= [['Name','price','quantity','Total'],['alu',25, 2, 50],['pyaj',25, 2, 50]]\n",
    "with open('bill.csv','w') as file:\n",
    "    x=csv.writer(file)\n",
    "    x.writerows(a)\n",
    "    \n",
    "    "
   ]
  },
  {
   "cell_type": "code",
   "execution_count": 39,
   "id": "2dc37fc7",
   "metadata": {},
   "outputs": [
    {
     "data": {
      "text/plain": [
       "[{'Name': 'alu', 'price': '25', 'quantity': '2', 'Total': '50'},\n",
       " {'Name': 'pyaj', 'price': '25', 'quantity': '2', 'Total': '50'}]"
      ]
     },
     "execution_count": 39,
     "metadata": {},
     "output_type": "execute_result"
    }
   ],
   "source": [
    "# reading the file\n",
    "# list with dictionary inside\n",
    "\n",
    "import csv\n",
    "data=[]\n",
    "with open('bill.csv','r') as file:\n",
    "    reader= csv.DictReader(file)\n",
    "    for i in reader:\n",
    "        data.append(i)\n",
    "        \n",
    "data"
   ]
  },
  {
   "cell_type": "code",
   "execution_count": 42,
   "id": "5697eabb",
   "metadata": {},
   "outputs": [
    {
     "name": "stdout",
     "output_type": "stream",
     "text": [
      "['Name,Price,Quantity,Total', ' alu,25, 2, 50', '']\n"
     ]
    }
   ],
   "source": [
    "# list inside list\n",
    "\n",
    "file=open('data.csv','r')\n",
    "x= file.read()\n",
    "y=x.split('\\n')\n",
    "print(y)\n",
    "\n",
    "\n",
    "file.close()"
   ]
  },
  {
   "cell_type": "code",
   "execution_count": 43,
   "id": "f533b25f",
   "metadata": {},
   "outputs": [
    {
     "name": "stdout",
     "output_type": "stream",
     "text": [
      "['Name', 'Price', 'Quantity', 'Total']\n",
      "[' alu', '25', ' 2', ' 50']\n"
     ]
    }
   ],
   "source": [
    "for i in y[0:-1]:\n",
    "    print(i.split(','))"
   ]
  },
  {
   "cell_type": "code",
   "execution_count": 47,
   "id": "6cca23d8",
   "metadata": {},
   "outputs": [],
   "source": [
    "import csv\n",
    "a=[' Pizza', '250', ' 2', ' 500']\n",
    "with open('bill.csv','a') as file:\n",
    "    x=csv.writer(file)\n",
    "    x.writerow(a)"
   ]
  },
  {
   "cell_type": "code",
   "execution_count": null,
   "id": "e77b83af",
   "metadata": {},
   "outputs": [],
   "source": []
  },
  {
   "cell_type": "code",
   "execution_count": null,
   "id": "174682f0",
   "metadata": {},
   "outputs": [],
   "source": []
  }
 ],
 "metadata": {
  "kernelspec": {
   "display_name": "Python 3 (ipykernel)",
   "language": "python",
   "name": "python3"
  },
  "language_info": {
   "codemirror_mode": {
    "name": "ipython",
    "version": 3
   },
   "file_extension": ".py",
   "mimetype": "text/x-python",
   "name": "python",
   "nbconvert_exporter": "python",
   "pygments_lexer": "ipython3",
   "version": "3.9.12"
  }
 },
 "nbformat": 4,
 "nbformat_minor": 5
}
