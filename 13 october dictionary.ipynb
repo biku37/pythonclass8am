{
 "cells": [
  {
   "cell_type": "code",
   "execution_count": 1,
   "id": "b81a4833",
   "metadata": {},
   "outputs": [],
   "source": [
    "# dictionary\n",
    "# indexng\n",
    "# duplicate (((values))) but no duplicate ((((key))\n",
    "# ordered\n",
    "# mutable"
   ]
  },
  {
   "cell_type": "code",
   "execution_count": 2,
   "id": "c7e30c1e",
   "metadata": {},
   "outputs": [],
   "source": [
    "d=dict()\n",
    "d={}\n",
    "# key and value \n",
    "\n"
   ]
  },
  {
   "cell_type": "code",
   "execution_count": 9,
   "id": "3d9f371e",
   "metadata": {},
   "outputs": [
    {
     "name": "stdout",
     "output_type": "stream",
     "text": [
      "{'a': 'apple', 'b': 'ball', 'A': 'apple'}\n",
      "apple\n",
      "apple\n"
     ]
    }
   ],
   "source": [
    "# duplicate (((values))) but no duplicate ((((key))\n",
    "\n",
    "d={\"a\":\"apple\",\"b\":\"ball\",\"A\":\"apple\"}\n",
    "print(d)\n",
    "print(d['a'])\n",
    "print(d['A'])"
   ]
  },
  {
   "cell_type": "code",
   "execution_count": 11,
   "id": "eb370734",
   "metadata": {},
   "outputs": [
    {
     "name": "stdout",
     "output_type": "stream",
     "text": [
      "{'a': 'Ram', 'b': 'ball'}\n",
      "Ram\n"
     ]
    }
   ],
   "source": [
    "# duplicate (((values))) but no duplicate ((((key))\n",
    "\n",
    "d={\"a\":\"apple\",\"b\":\"ball\",\"a\":\"Ram\"}\n",
    "print(d)\n",
    "print(d['a'])\n"
   ]
  },
  {
   "cell_type": "code",
   "execution_count": 12,
   "id": "52006d0b",
   "metadata": {},
   "outputs": [
    {
     "name": "stdout",
     "output_type": "stream",
     "text": [
      "{'a': 'apple', 'b': 'ball', 'A': 'apple', 'c': 'Cat'}\n"
     ]
    }
   ],
   "source": [
    "d={\"a\":\"apple\",\"b\":\"ball\",\"A\":\"apple\"}\n",
    "d['c']=\"Cat\"\n",
    "print(d)"
   ]
  },
  {
   "cell_type": "code",
   "execution_count": 14,
   "id": "0982e0e3",
   "metadata": {},
   "outputs": [
    {
     "name": "stdout",
     "output_type": "stream",
     "text": [
      "{'a': 'Apple', 'b': 'Ball'}\n"
     ]
    }
   ],
   "source": [
    "# no append extend\n",
    "\n",
    "\n",
    "d={}\n",
    "d['a']=\"Apple\"\n",
    "d['b']= \"Ball\"\n",
    "print(d)"
   ]
  },
  {
   "cell_type": "code",
   "execution_count": 15,
   "id": "d889f3d7",
   "metadata": {},
   "outputs": [
    {
     "name": "stdout",
     "output_type": "stream",
     "text": [
      "Enter n=2\n",
      "Enter name:ensuu basnet\n",
      "Enter phone:123\n",
      "Enter name:shailesh basnet\n",
      "Enter phone:432\n",
      "{'ensuu basnet': '123', 'shailesh basnet': '432'}\n"
     ]
    }
   ],
   "source": [
    "d={}\n",
    "n=int(input(\"Enter n=\"))\n",
    "for i in range(n):\n",
    "    name= input(\"Enter name:\")\n",
    "    phone=input(\"Enter phone:\")\n",
    "    d[name]=phone\n",
    "    \n",
    "print(d)"
   ]
  },
  {
   "cell_type": "code",
   "execution_count": 22,
   "id": "a91aa4b2",
   "metadata": {},
   "outputs": [
    {
     "name": "stdout",
     "output_type": "stream",
     "text": [
      "Enter n=1 \n",
      "Enter name:sam\n",
      "Enter phone:234\n",
      "{'sam': '234'}\n",
      "dict_items([('sam', '234')])\n",
      "sam\n",
      "234\n"
     ]
    }
   ],
   "source": [
    "# reading the data \n",
    "\n",
    "d={}\n",
    "n=int(input(\"Enter n=\"))\n",
    "for i in range(n):\n",
    "    name= input(\"Enter name:\")\n",
    "    phone=input(\"Enter phone:\")\n",
    "    d[name]=phone\n",
    "\n",
    "print(d)\n",
    "print(d.items())\n",
    "for i in d :\n",
    "    print(i)\n",
    "    \n",
    "for i in d.values() :\n",
    "    print(i)  \n"
   ]
  },
  {
   "cell_type": "markdown",
   "id": "013b9f34",
   "metadata": {},
   "source": []
  },
  {
   "cell_type": "code",
   "execution_count": 23,
   "id": "82cf0cee",
   "metadata": {},
   "outputs": [
    {
     "name": "stdout",
     "output_type": "stream",
     "text": [
      "{'ensuu basnet': '123', 'shailesh basnet': '432'}\n",
      "dict_items([('ensuu basnet', '123'), ('shailesh basnet', '432')])\n",
      "ensuu basnet\n",
      "shailesh basnet\n",
      "123\n",
      "432\n",
      "('ensuu basnet', '123')\n",
      "('shailesh basnet', '432')\n"
     ]
    }
   ],
   "source": [
    "\n",
    "d={'ensuu basnet': '123', 'shailesh basnet': '432'}\n",
    "print(d)\n",
    "print(d.items())\n",
    "\n",
    "\n",
    "for i in d :\n",
    "    print(i)\n",
    "    \n",
    "for i in d.values() :\n",
    "    print(i)  \n",
    "for i in d.items() :\n",
    "    print(i) "
   ]
  },
  {
   "cell_type": "code",
   "execution_count": 25,
   "id": "5fbd302b",
   "metadata": {},
   "outputs": [
    {
     "name": "stdout",
     "output_type": "stream",
     "text": [
      "[('ensuu basnet', '123'), ('shailesh basnet', '432')]\n"
     ]
    }
   ],
   "source": [
    "# dictionary inside list\n",
    "\n",
    "\n",
    "l=[]\n",
    "d={'ensuu basnet': '123', 'shailesh basnet': '432'}\n",
    "\n",
    "\n",
    "for i in d.items() :\n",
    "    l.append(i)\n",
    "print(l) \n"
   ]
  },
  {
   "cell_type": "code",
   "execution_count": 28,
   "id": "595a47b0",
   "metadata": {},
   "outputs": [
    {
     "data": {
      "text/plain": [
       "{'Hari': '432'}"
      ]
     },
     "execution_count": 28,
     "metadata": {},
     "output_type": "execute_result"
    }
   ],
   "source": [
    "# delete\n",
    "\n",
    "d={'Ram': '123', 'Hari': '432'}\n",
    "del d[\"Ram\"]\n",
    "d\n"
   ]
  },
  {
   "cell_type": "code",
   "execution_count": 29,
   "id": "cc70d563",
   "metadata": {},
   "outputs": [
    {
     "data": {
      "text/plain": [
       "{'Hari': '432'}"
      ]
     },
     "execution_count": 29,
     "metadata": {},
     "output_type": "execute_result"
    }
   ],
   "source": [
    "# pop===== del or move to a new location\n",
    "\n",
    "d={'Ram': '123', 'Hari': '432'}\n",
    "d.pop(\"Ram\")\n",
    "d"
   ]
  },
  {
   "cell_type": "code",
   "execution_count": 30,
   "id": "5e051caf",
   "metadata": {},
   "outputs": [
    {
     "name": "stdout",
     "output_type": "stream",
     "text": [
      "123\n",
      "{'Hari': '432'}\n"
     ]
    }
   ],
   "source": [
    "# pop\n",
    "\n",
    "d={'Ram': '123', 'Hari': '432'}\n",
    "c= d.pop(\"Ram\")\n",
    "print(c)\n",
    "print(d)"
   ]
  },
  {
   "cell_type": "code",
   "execution_count": 31,
   "id": "4bfbba71",
   "metadata": {},
   "outputs": [
    {
     "name": "stdout",
     "output_type": "stream",
     "text": [
      "{'Ram': ['123', '980'], 'Hari': ['432', '453']}\n"
     ]
    }
   ],
   "source": [
    "# list inside dictionary\n",
    "\n",
    "d={'Ram': ['123','980'], 'Hari': ['432','453']}\n",
    "print(d)"
   ]
  },
  {
   "cell_type": "code",
   "execution_count": 32,
   "id": "b5ec1d43",
   "metadata": {},
   "outputs": [
    {
     "name": "stdout",
     "output_type": "stream",
     "text": [
      "Enter n=2\n",
      "Enter name:anup \n",
      "Enter ntc phone:2341\n",
      "Enter ncell phone:343\n",
      "Enter name:biks\n",
      "Enter ntc phone:2323\n",
      "Enter ncell phone:3434\n",
      "{'anup ': ['2341', '343'], 'biks': ['2323', '3434']}\n"
     ]
    }
   ],
   "source": [
    "d={}\n",
    "n=int(input(\"Enter n=\"))\n",
    "for i in range(n):\n",
    "    name= input(\"Enter name:\")\n",
    "    ntc_phone=input(\"Enter ntc phone:\")\n",
    "    ncell_phone=input(\"Enter ncell phone:\")\n",
    "    d[name]=[ntc_phone,ncell_phone]\n",
    "    \n",
    "print(d)"
   ]
  },
  {
   "cell_type": "code",
   "execution_count": 42,
   "id": "ddb519d8",
   "metadata": {},
   "outputs": [
    {
     "data": {
      "text/plain": [
       "{'anup': ['2341', '343'], 'biks': ['2323', '3434'], 'hari': ['123', '5435']}"
      ]
     },
     "execution_count": 42,
     "metadata": {},
     "output_type": "execute_result"
    }
   ],
   "source": [
    "d={'anup': ['2341', '343'], 'biks': ['2323', '3434']}\n",
    "d[\"hari\"]=[\"123\",\"5435\"]\n",
    "d\n"
   ]
  },
  {
   "cell_type": "code",
   "execution_count": 41,
   "id": "562fe24f",
   "metadata": {},
   "outputs": [
    {
     "data": {
      "text/plain": [
       "{'anup': ['2341', '343', '98654563'],\n",
       " 'biks': ['2323', '3434'],\n",
       " 'hari': ['123', '5435']}"
      ]
     },
     "execution_count": 41,
     "metadata": {},
     "output_type": "execute_result"
    }
   ],
   "source": [
    "d={'anup': ['2341', '343'], 'biks': ['2323', '3434'], 'hari': ['123', '5435']}\n",
    "d['anup'].append('98654563')\n",
    "d"
   ]
  },
  {
   "cell_type": "code",
   "execution_count": 45,
   "id": "59ac5532",
   "metadata": {},
   "outputs": [
    {
     "data": {
      "text/plain": [
       "{'name': ['Ram', 'Shyam', 'Hari'],\n",
       " 'age': [64, 89, 54],\n",
       " 'address': ['Ktm', 'Bkt', 'Lalitpur']}"
      ]
     },
     "execution_count": 45,
     "metadata": {},
     "output_type": "execute_result"
    }
   ],
   "source": [
    "d={'name':['Ram','Shyam','Hari'],'age':[64,89,54],'address':['Ktm','Bkt','Lalitpur']}\n",
    "print(d)"
   ]
  },
  {
   "cell_type": "code",
   "execution_count": 46,
   "id": "bf31cce9",
   "metadata": {},
   "outputs": [
    {
     "name": "stdout",
     "output_type": "stream",
     "text": [
      "{'name': ['Ram', 'Shyam', 'Hari', 'Pukar'], 'age': [64, 89, 54, '43'], 'address': ['Ktm', 'Bkt', 'Lalitpur', 'Brt']}\n"
     ]
    }
   ],
   "source": [
    "# list inside dictionary\n",
    "\n",
    "\n",
    "d={'name':['Ram','Shyam','Hari'],'age':[64,89,54],'address':['Ktm','Bkt','Lalitpur']}\n",
    "d['name'].append('Pukar')\n",
    "d['age'].append('43')\n",
    "d['address'].append('Brt')\n",
    "print(d)"
   ]
  },
  {
   "cell_type": "code",
   "execution_count": 48,
   "id": "41673e23",
   "metadata": {},
   "outputs": [
    {
     "data": {
      "text/plain": [
       "[{'name': 'Ram', 'age': '43', 'add': 'Ktm'},\n",
       " {'name': 'Ravan', 'age': '54', 'add': 'bkt'},\n",
       " {'name': 'Kangsha', 'age': '24', 'add': 'Ktm'}]"
      ]
     },
     "execution_count": 48,
     "metadata": {},
     "output_type": "execute_result"
    }
   ],
   "source": [
    "# dictionary inside list\n",
    "# key always repeats\n",
    "\n",
    "\n",
    "l=[{'name':'Ram','age':'43','add':'Ktm'},\n",
    "  {'name':'Ravan','age':'54','add':'bkt'},\n",
    "  {'name':'Kangsha','age':'24','add':'Ktm'}]\n",
    "l\n"
   ]
  },
  {
   "cell_type": "code",
   "execution_count": 49,
   "id": "4632051f",
   "metadata": {},
   "outputs": [
    {
     "name": "stdout",
     "output_type": "stream",
     "text": [
      "Enter the value :2\n",
      "Enter the name :ravan\n",
      "Enter age=43\n",
      "Enter add:ktm\n",
      "Enter the name :kangsa\n",
      "Enter age=65\n",
      "Enter add:lanka\n",
      "[{'name': 'ravan', 'age': 43, 'add': 'ktm'}, {'name': 'kangsa', 'age': 65, 'add': 'lanka'}]\n"
     ]
    }
   ],
   "source": [
    "l=[]\n",
    "n=int(input(\"Enter the value :\"))\n",
    "for i in range(n):\n",
    "    name=input(\"Enter the name :\")\n",
    "    age=int(input(\"Enter age=\"))\n",
    "    add=input(\"Enter add:\")\n",
    "    d={'name':name,'age':age,'add':add}\n",
    "    l.append(d)\n",
    "    \n",
    "print(l)"
   ]
  },
  {
   "cell_type": "code",
   "execution_count": 53,
   "id": "9a8eb8b9",
   "metadata": {},
   "outputs": [
    {
     "name": "stdout",
     "output_type": "stream",
     "text": [
      "ravan\n"
     ]
    },
    {
     "data": {
      "text/plain": [
       "43"
      ]
     },
     "execution_count": 53,
     "metadata": {},
     "output_type": "execute_result"
    }
   ],
   "source": [
    "print(l[0]['name'])\n",
    "l[0]['age']"
   ]
  },
  {
   "cell_type": "code",
   "execution_count": 62,
   "id": "f6a1d24d",
   "metadata": {},
   "outputs": [
    {
     "data": {
      "text/plain": [
       "[{'age': 43, 'add': 'ktm'}, {'name': 'kangsa', 'age': 65, 'add': 'lanka'}]"
      ]
     },
     "execution_count": 62,
     "metadata": {},
     "output_type": "execute_result"
    }
   ],
   "source": [
    "l=[{'name': 'ravan', 'age': 43, 'add': 'ktm'}, {'name': 'kangsa', 'age': 65, 'add': 'lanka'}]\n",
    "del l[0]['name']\n",
    "l"
   ]
  },
  {
   "cell_type": "code",
   "execution_count": 66,
   "id": "51bd38bb",
   "metadata": {},
   "outputs": [
    {
     "name": "stdout",
     "output_type": "stream",
     "text": [
      "{1: {'a': 'apple'}, 2: {'b': 'ball'}, 3: {'a': 'Ram'}}\n",
      "dict_values([{'a': 'apple'}, {'b': 'ball'}, {'a': 'Ram'}])\n"
     ]
    }
   ],
   "source": [
    "# dictionary inside dictionary\n",
    "\n",
    "\n",
    "d={1:{\"a\":\"apple\"},\n",
    "   2:{\"b\":\"ball\"},\n",
    "   3:{\"a\":\"Ram\"}}\n",
    "print(d)\n",
    "c=d.values()\n",
    "print(c)"
   ]
  },
  {
   "cell_type": "code",
   "execution_count": null,
   "id": "0942a4a8",
   "metadata": {},
   "outputs": [],
   "source": []
  }
 ],
 "metadata": {
  "kernelspec": {
   "display_name": "Python 3 (ipykernel)",
   "language": "python",
   "name": "python3"
  },
  "language_info": {
   "codemirror_mode": {
    "name": "ipython",
    "version": 3
   },
   "file_extension": ".py",
   "mimetype": "text/x-python",
   "name": "python",
   "nbconvert_exporter": "python",
   "pygments_lexer": "ipython3",
   "version": "3.9.12"
  }
 },
 "nbformat": 4,
 "nbformat_minor": 5
}
