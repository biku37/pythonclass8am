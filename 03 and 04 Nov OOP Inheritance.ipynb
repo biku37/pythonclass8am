{
 "cells": [
  {
   "cell_type": "code",
   "execution_count": 3,
   "id": "aa9031fc",
   "metadata": {},
   "outputs": [
    {
     "name": "stdout",
     "output_type": "stream",
     "text": [
      "Enter name = ram\n",
      "Enter age= 23\n",
      "Hello I am ram. I am 23 \n"
     ]
    }
   ],
   "source": [
    "# ineritance\n",
    "\n",
    "class A:\n",
    "    def __init__(self):\n",
    "        self.name= input(\"Enter name = \")\n",
    "        self.age= int(input(\"Enter age= \"))\n",
    "        \n",
    "class B(A):\n",
    "    def info(self):\n",
    "        print(f\"Hello I am {self.name}. I am {self.age} \")\n",
    "              \n",
    "obj =B()\n",
    "obj.info()"
   ]
  },
  {
   "cell_type": "code",
   "execution_count": 5,
   "id": "1453eb9c",
   "metadata": {},
   "outputs": [
    {
     "name": "stdout",
     "output_type": "stream",
     "text": [
      "Enter name = bikesh\n",
      "Enter age= 20\n",
      "Hello I am bikesh. I have 20 girlfriends \n",
      "('bikesh', 20)\n"
     ]
    }
   ],
   "source": [
    "class A:\n",
    "    def __init__(self):\n",
    "        self.name= input(\"Enter name = \")\n",
    "        self.age= int(input(\"Enter age= \"))\n",
    "        \n",
    "    def infos(self):\n",
    "        return self.name,self.age\n",
    "        \n",
    "class B(A):\n",
    "    def info(self):\n",
    "        print(f\"Hello I am {self.name}. I have {self.age} girlfriends. \")\n",
    "              \n",
    "obj =B()\n",
    "obj.info()\n",
    "print(obj.infos())"
   ]
  },
  {
   "cell_type": "code",
   "execution_count": null,
   "id": "dfe0f318",
   "metadata": {},
   "outputs": [],
   "source": [
    "class A:\n",
    "    def __init__(self):\n",
    "        self.name= input(\"Enter name = \")        #public members\n",
    "        self.age= int(input(\"Enter age= \"))        #public members\n",
    "        \n",
    "    def infos(self):\n",
    "        return self.name,self.age\n",
    "        \n",
    "class B(A):\n",
    "    def info(self):\n",
    "        print(f\"Hello I am {self.name}. I have {self.age} girlfriends. \")\n",
    "              \n",
    "obj =B()\n",
    "obj1=A()\n",
    "obj.info()\n",
    "print(obj.infos())"
   ]
  },
  {
   "cell_type": "code",
   "execution_count": 6,
   "id": "4c043a87",
   "metadata": {},
   "outputs": [
    {
     "name": "stdout",
     "output_type": "stream",
     "text": [
      "Enter name = Bikes Don\n",
      "Enter age= 10\n",
      "Hello I am Bikes Don. I have 10 girlfriends. \n",
      "('Bikes Don', 10)\n"
     ]
    }
   ],
   "source": [
    "class A:\n",
    "    def __init__(self,name, age):\n",
    "        self.name= name        #public members\n",
    "        self.age= age        #public members\n",
    "        \n",
    "    def infos(self):\n",
    "        return self.name,self.age\n",
    "        \n",
    "class B(A):\n",
    "    def info(self):\n",
    "        print(f\"Hello I am {self.name}. I have {self.age} girlfriends. \")\n",
    "        \n",
    "name= input(\"Enter name = \")\n",
    "age= int(input(\"Enter age= \"))\n",
    "              \n",
    "obj =B(name, age)\n",
    "obj.info()\n",
    "print(obj.infos())"
   ]
  },
  {
   "cell_type": "code",
   "execution_count": 14,
   "id": "9ad67561",
   "metadata": {},
   "outputs": [
    {
     "name": "stdout",
     "output_type": "stream",
     "text": [
      "Enter name = bikes \n",
      "Enter age= 10\n",
      "Enter address = kathmandu\n",
      "Hello I am bikes . I have 10 girlfriends. They live in kathmandu \n",
      "('bikes ', 10)\n"
     ]
    }
   ],
   "source": [
    "class A:\n",
    "    def __init__(self,name, age):\n",
    "        self.name= name        #public members\n",
    "        self.age= age        #public members\n",
    "        \n",
    "    def infos(self):\n",
    "        return self.name,self.age\n",
    "        \n",
    "class B(A):\n",
    "    def __init__(self,name,age,address):\n",
    "        self.address= address\n",
    "        A.__init__(self,name,age)\n",
    "        \n",
    "        \n",
    "    def info(self):\n",
    "        print(f\"Hello I am {self.name}. I have {self.age} girlfriends. They live in {address} \")\n",
    "        \n",
    "name= input(\"Enter name = \")\n",
    "age= int(input(\"Enter age= \"))\n",
    "address= input(\"Enter address = \")\n",
    "              \n",
    "obj =B(name, age, address)\n",
    "obj.info()\n",
    "print(obj.infos())"
   ]
  },
  {
   "cell_type": "code",
   "execution_count": null,
   "id": "d2b8aa35",
   "metadata": {},
   "outputs": [],
   "source": [
    "class A:\n",
    "    pass\n",
    "\n",
    "class B(A):\n",
    "    pass\n",
    "class C(B):\n",
    "    pass\n",
    "obj=C()"
   ]
  },
  {
   "cell_type": "code",
   "execution_count": null,
   "id": "d464667a",
   "metadata": {},
   "outputs": [],
   "source": [
    "class A:\n",
    "    pass\n",
    "\n",
    "class B:\n",
    "    pass\n",
    "class C(A,B):\n",
    "    pass\n",
    "obj=C()"
   ]
  },
  {
   "cell_type": "code",
   "execution_count": 4,
   "id": "5ea8f7d2",
   "metadata": {},
   "outputs": [
    {
     "name": "stdout",
     "output_type": "stream",
     "text": [
      "Enter name = ram\n",
      "Enter age= 32\n",
      "Enter address = ll\n"
     ]
    },
    {
     "ename": "NameError",
     "evalue": "name 'self' is not defined",
     "output_type": "error",
     "traceback": [
      "\u001b[1;31m---------------------------------------------------------------------------\u001b[0m",
      "\u001b[1;31mNameError\u001b[0m                                 Traceback (most recent call last)",
      "Input \u001b[1;32mIn [4]\u001b[0m, in \u001b[0;36m<cell line: 28>\u001b[1;34m()\u001b[0m\n\u001b[0;32m     25\u001b[0m age\u001b[38;5;241m=\u001b[39m \u001b[38;5;28mint\u001b[39m(\u001b[38;5;28minput\u001b[39m(\u001b[38;5;124m\"\u001b[39m\u001b[38;5;124mEnter age= \u001b[39m\u001b[38;5;124m\"\u001b[39m))\n\u001b[0;32m     26\u001b[0m address\u001b[38;5;241m=\u001b[39m \u001b[38;5;28minput\u001b[39m(\u001b[38;5;124m\"\u001b[39m\u001b[38;5;124mEnter address = \u001b[39m\u001b[38;5;124m\"\u001b[39m)\n\u001b[1;32m---> 28\u001b[0m obj \u001b[38;5;241m=\u001b[39m C(\u001b[38;5;28;43mself\u001b[39;49m,name, age, address)\n\u001b[0;32m     29\u001b[0m obj\u001b[38;5;241m.\u001b[39minfo()\n\u001b[0;32m     30\u001b[0m \u001b[38;5;28mprint\u001b[39m(obj\u001b[38;5;241m.\u001b[39minfos())\n",
      "\u001b[1;31mNameError\u001b[0m: name 'self' is not defined"
     ]
    }
   ],
   "source": [
    "class A:\n",
    "    def __init__(self,name):\n",
    "        self.name= name        #public members\n",
    "               \n",
    "        \n",
    "    def infos(self):\n",
    "        return self.name\n",
    "    \n",
    "class B(A):\n",
    "    def __init__(self,name,age):\n",
    "        self.age= age \n",
    "        A.__init__(self.name)\n",
    "    \n",
    "        \n",
    "class C(B):\n",
    "    def __init__(self,name,age,address):\n",
    "        self.address= address\n",
    "        B.__init__(self,name,age)\n",
    "        \n",
    "        \n",
    "    def info(self):\n",
    "        print(f\"Hello I am {self.name}. I have {self.age} girlfriends. They live in {address} \")\n",
    "        \n",
    "name= input(\"Enter name = \")\n",
    "age= int(input(\"Enter age= \"))\n",
    "address= input(\"Enter address = \")\n",
    "              \n",
    "obj = C(name, age, address)\n",
    "obj.info()\n",
    "print(obj.infos())"
   ]
  },
  {
   "cell_type": "code",
   "execution_count": null,
   "id": "79d25e1a",
   "metadata": {},
   "outputs": [],
   "source": [
    "# 04 novemer continue"
   ]
  },
  {
   "cell_type": "code",
   "execution_count": 8,
   "id": "58c41473",
   "metadata": {},
   "outputs": [
    {
     "name": "stdout",
     "output_type": "stream",
     "text": [
      "Enter the address: ktm\n",
      "Enter name=  Samir\n",
      "Enter age =  21\n",
      "Hello I am Samir. I have 21 girlfriends. They live in ll \n",
      "Samir\n"
     ]
    }
   ],
   "source": [
    "class A:\n",
    "    def __init__(self):\n",
    "        self.name= input(\"Enter name=  \")        #public members\n",
    "               \n",
    "        \n",
    "    def infos(self):\n",
    "        return self.name\n",
    "    \n",
    "class B:\n",
    "    def __init__(self):\n",
    "        self.age= input(\"Enter age =  \")\n",
    "            \n",
    "        \n",
    "class C(A,B):\n",
    "    def __init__(self):\n",
    "        self.address= input(\"Enter the address: \")\n",
    "        A.__init__(self) \n",
    "        B.__init__(self)\n",
    "        \n",
    "    def info(self):\n",
    "        print(f\"Hello I am {self.name}. I have {self.age} girlfriends. They live in {address} \")\n",
    "        \n",
    "              \n",
    "obj = C()\n",
    "obj.info()\n",
    "print(obj.infos())"
   ]
  },
  {
   "cell_type": "code",
   "execution_count": 11,
   "id": "e148364b",
   "metadata": {},
   "outputs": [
    {
     "name": "stdout",
     "output_type": "stream",
     "text": [
      "Enter name = ram\n",
      "Enter age= 21\n",
      "Enter address = dsa\n",
      "Hello I am ram. I have 21 girlfriends. They live in dsa \n",
      "ram\n"
     ]
    }
   ],
   "source": [
    "class A:\n",
    "    def __init__(self,name):\n",
    "        self.name= name        #public members                     \n",
    "    def infos(self):\n",
    "        return self.name    \n",
    "class B:\n",
    "    def __init__(self,age):\n",
    "        self.age= age                     \n",
    "class C(A,B):\n",
    "    def __init__(self,name,age,address):\n",
    "        self.address= address\n",
    "        A.__init__(self,name) \n",
    "        B.__init__(self,age)        \n",
    "    def info(self):\n",
    "        print(f\"Hello I am {self.name}. I have {self.age} girlfriends. They live in {address} \")\n",
    "        \n",
    "name= input(\"Enter name = \")\n",
    "age= int(input(\"Enter age= \"))\n",
    "address= input(\"Enter address = \")\n",
    "                    \n",
    "obj = C(name,age,address)\n",
    "obj.info()\n",
    "print(obj.infos())"
   ]
  },
  {
   "cell_type": "code",
   "execution_count": 12,
   "id": "185ddb28",
   "metadata": {},
   "outputs": [
    {
     "name": "stdout",
     "output_type": "stream",
     "text": [
      "Ram 34 ktm\n"
     ]
    }
   ],
   "source": [
    "# public members\n",
    "\n",
    "class Info:\n",
    "    def __init__(self,name,age,add):\n",
    "        self.name= name\n",
    "        self.age= age\n",
    "        self.add= add\n",
    "        \n",
    "obj = Info(\"Ram\",34,\"ktm\")\n",
    "print(obj.name,obj.age,obj.add)\n",
    "        "
   ]
  },
  {
   "cell_type": "code",
   "execution_count": 14,
   "id": "9ad120cf",
   "metadata": {},
   "outputs": [
    {
     "name": "stdout",
     "output_type": "stream",
     "text": [
      "Ram 34 ktm\n"
     ]
    }
   ],
   "source": [
    "# protected members\n",
    "class Info:\n",
    "    def __init__(self,name,age,add):\n",
    "        self._name= name\n",
    "        self._age= age\n",
    "        self._add= add\n",
    "        \n",
    "obj = Info(\"Ram\",34,\"ktm\")\n",
    "print(obj._name,obj._age,obj._add)"
   ]
  },
  {
   "cell_type": "code",
   "execution_count": 15,
   "id": "043f6a9c",
   "metadata": {},
   "outputs": [
    {
     "ename": "AttributeError",
     "evalue": "'Info' object has no attribute '__name'",
     "output_type": "error",
     "traceback": [
      "\u001b[1;31m---------------------------------------------------------------------------\u001b[0m",
      "\u001b[1;31mAttributeError\u001b[0m                            Traceback (most recent call last)",
      "Input \u001b[1;32mIn [15]\u001b[0m, in \u001b[0;36m<cell line: 9>\u001b[1;34m()\u001b[0m\n\u001b[0;32m      6\u001b[0m         \u001b[38;5;28mself\u001b[39m\u001b[38;5;241m.\u001b[39m__add\u001b[38;5;241m=\u001b[39m add\n\u001b[0;32m      8\u001b[0m obj \u001b[38;5;241m=\u001b[39m Info(\u001b[38;5;124m\"\u001b[39m\u001b[38;5;124mRam\u001b[39m\u001b[38;5;124m\"\u001b[39m,\u001b[38;5;241m34\u001b[39m,\u001b[38;5;124m\"\u001b[39m\u001b[38;5;124mktm\u001b[39m\u001b[38;5;124m\"\u001b[39m)\n\u001b[1;32m----> 9\u001b[0m \u001b[38;5;28mprint\u001b[39m(\u001b[43mobj\u001b[49m\u001b[38;5;241;43m.\u001b[39;49m\u001b[43m__name\u001b[49m,obj\u001b[38;5;241m.\u001b[39m__age,obj\u001b[38;5;241m.\u001b[39m__add)\n",
      "\u001b[1;31mAttributeError\u001b[0m: 'Info' object has no attribute '__name'"
     ]
    }
   ],
   "source": [
    "# private members ===cannot be used directly by the users \n",
    "class Info:\n",
    "    def __init__(self,name,age,add):\n",
    "        self.__name= name\n",
    "        self.__age= age\n",
    "        self.__add= add\n",
    "        \n",
    "obj = Info(\"Ram\",34,\"ktm\")\n",
    "print(obj.__name,obj.__age,obj.__add)"
   ]
  },
  {
   "cell_type": "code",
   "execution_count": 16,
   "id": "007bb9e2",
   "metadata": {},
   "outputs": [
    {
     "name": "stdout",
     "output_type": "stream",
     "text": [
      "Ram 34 ktm\n"
     ]
    }
   ],
   "source": [
    "# private members data can be accessed only by the class i.e only by the programmers themselves\n",
    "class Info:\n",
    "    def __init__(self,name,age,add):\n",
    "        self.__name= name\n",
    "        self.__age= age\n",
    "        self.__add= add\n",
    "        \n",
    "obj = Info(\"Ram\",34,\"ktm\")\n",
    "print(obj._Info__name,obj._Info__age,obj._Info__add)"
   ]
  },
  {
   "cell_type": "code",
   "execution_count": 18,
   "id": "d88f27b8",
   "metadata": {},
   "outputs": [
    {
     "name": "stdout",
     "output_type": "stream",
     "text": [
      "Enter name = ram\n",
      "Enter age= 32\n",
      "Enter address = rwerw\n"
     ]
    },
    {
     "ename": "AttributeError",
     "evalue": "'B' object has no attribute 'name'",
     "output_type": "error",
     "traceback": [
      "\u001b[1;31m---------------------------------------------------------------------------\u001b[0m",
      "\u001b[1;31mAttributeError\u001b[0m                            Traceback (most recent call last)",
      "Input \u001b[1;32mIn [18]\u001b[0m, in \u001b[0;36m<cell line: 23>\u001b[1;34m()\u001b[0m\n\u001b[0;32m     20\u001b[0m address\u001b[38;5;241m=\u001b[39m \u001b[38;5;28minput\u001b[39m(\u001b[38;5;124m\"\u001b[39m\u001b[38;5;124mEnter address = \u001b[39m\u001b[38;5;124m\"\u001b[39m)\n\u001b[0;32m     22\u001b[0m obj \u001b[38;5;241m=\u001b[39mB(name, age, address)\n\u001b[1;32m---> 23\u001b[0m \u001b[43mobj\u001b[49m\u001b[38;5;241;43m.\u001b[39;49m\u001b[43minfo\u001b[49m\u001b[43m(\u001b[49m\u001b[43m)\u001b[49m\n\u001b[0;32m     24\u001b[0m \u001b[38;5;28mprint\u001b[39m(obj\u001b[38;5;241m.\u001b[39minfos())\n",
      "Input \u001b[1;32mIn [18]\u001b[0m, in \u001b[0;36mB.info\u001b[1;34m(self)\u001b[0m\n\u001b[0;32m     15\u001b[0m \u001b[38;5;28;01mdef\u001b[39;00m \u001b[38;5;21minfo\u001b[39m(\u001b[38;5;28mself\u001b[39m):\n\u001b[1;32m---> 16\u001b[0m     \u001b[38;5;28mprint\u001b[39m(\u001b[38;5;124mf\u001b[39m\u001b[38;5;124m\"\u001b[39m\u001b[38;5;124mHello I am \u001b[39m\u001b[38;5;132;01m{\u001b[39;00m\u001b[38;5;28mself\u001b[39m\u001b[38;5;241m.\u001b[39mname\u001b[38;5;132;01m}\u001b[39;00m\u001b[38;5;124m. I have \u001b[39m\u001b[38;5;132;01m{\u001b[39;00m\u001b[38;5;28mself\u001b[39m\u001b[38;5;241m.\u001b[39m_age\u001b[38;5;132;01m}\u001b[39;00m\u001b[38;5;124m girlfriends. They live in \u001b[39m\u001b[38;5;132;01m{\u001b[39;00maddress\u001b[38;5;132;01m}\u001b[39;00m\u001b[38;5;124m \u001b[39m\u001b[38;5;124m\"\u001b[39m)\n",
      "\u001b[1;31mAttributeError\u001b[0m: 'B' object has no attribute 'name'"
     ]
    }
   ],
   "source": [
    "class A:\n",
    "    def __init__(self,name, age):\n",
    "        self.__name= name        #private members\n",
    "        self._age= age        #protected members\n",
    "        \n",
    "    def infos(self):\n",
    "        print(self.__name,_self.age)\n",
    "        \n",
    "class B(A):\n",
    "    def __init__(self,name,age,address):\n",
    "        self.address= address\n",
    "        A.__init__(self,name,age)\n",
    "        \n",
    "        \n",
    "    def info(self):\n",
    "        print(f\"Hello I am {self.name}. I have {self._age} girlfriends. They live in {address} \")\n",
    "        \n",
    "name= input(\"Enter name = \")\n",
    "age= int(input(\"Enter age= \"))\n",
    "address= input(\"Enter address = \")\n",
    "              \n",
    "obj =B(name, age, address)\n",
    "obj.info()\n",
    "print(obj.infos())"
   ]
  },
  {
   "cell_type": "code",
   "execution_count": null,
   "id": "faaeaad5",
   "metadata": {},
   "outputs": [],
   "source": []
  }
 ],
 "metadata": {
  "kernelspec": {
   "display_name": "Python 3 (ipykernel)",
   "language": "python",
   "name": "python3"
  },
  "language_info": {
   "codemirror_mode": {
    "name": "ipython",
    "version": 3
   },
   "file_extension": ".py",
   "mimetype": "text/x-python",
   "name": "python",
   "nbconvert_exporter": "python",
   "pygments_lexer": "ipython3",
   "version": "3.9.12"
  }
 },
 "nbformat": 4,
 "nbformat_minor": 5
}
