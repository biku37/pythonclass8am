{
 "cells": [
  {
   "cell_type": "code",
   "execution_count": 2,
   "id": "673ff7db",
   "metadata": {},
   "outputs": [],
   "source": [
    "# functions\n",
    "# for codes to run multiple times\n",
    "\n",
    "# pre defined function\n",
    "# print() int() tuple()\n",
    "\n",
    "# user defined function\n",
    "# until the funcion is called memory allocation doesnot happen"
   ]
  },
  {
   "cell_type": "code",
   "execution_count": 3,
   "id": "1f496bce",
   "metadata": {},
   "outputs": [],
   "source": [
    "# def <function name>():\n",
    "#     <operation>\n",
    "    \n",
    "# <function_name>()"
   ]
  },
  {
   "cell_type": "code",
   "execution_count": 5,
   "id": "69d8821e",
   "metadata": {},
   "outputs": [
    {
     "name": "stdout",
     "output_type": "stream",
     "text": [
      "Hello World\n"
     ]
    }
   ],
   "source": [
    "def hello():\n",
    "    print(\"Hello World\")\n",
    "    \n",
    "hello()"
   ]
  },
  {
   "cell_type": "code",
   "execution_count": 6,
   "id": "35cde0d2",
   "metadata": {},
   "outputs": [
    {
     "name": "stdout",
     "output_type": "stream",
     "text": [
      "Enter l=10\n",
      "Enter b=5\n",
      "50\n"
     ]
    }
   ],
   "source": [
    "def area():\n",
    "    l=int(input(\"Enter l=\"))  #local variable\n",
    "    b=int(input(\"Enter b=\"))  #local variable\n",
    "    a=l*b                     #local variable\n",
    "    print(a)\n",
    "    \n",
    "area()"
   ]
  },
  {
   "cell_type": "code",
   "execution_count": 7,
   "id": "7c7a7efb",
   "metadata": {},
   "outputs": [
    {
     "name": "stdout",
     "output_type": "stream",
     "text": [
      "Enter l=10\n",
      "Enter b=5\n",
      "50\n"
     ]
    }
   ],
   "source": [
    "l=int(input(\"Enter l=\"))   #global variable\n",
    "b=int(input(\"Enter b=\"))   #global variable\n",
    "def area():\n",
    "\n",
    "    a=l*b                  #local variable\n",
    "    print(a)\n",
    "    \n",
    "area()"
   ]
  },
  {
   "cell_type": "code",
   "execution_count": 8,
   "id": "8fd6c56a",
   "metadata": {},
   "outputs": [
    {
     "name": "stdout",
     "output_type": "stream",
     "text": [
      "Enter l=10\n",
      "Enter b=5\n",
      "50\n",
      "Enter l=10\n",
      "Enter b=5\n",
      "Enter h=10\n"
     ]
    },
    {
     "ename": "NameError",
     "evalue": "name 'v' is not defined",
     "output_type": "error",
     "traceback": [
      "\u001b[1;31m---------------------------------------------------------------------------\u001b[0m",
      "\u001b[1;31mNameError\u001b[0m                                 Traceback (most recent call last)",
      "Input \u001b[1;32mIn [8]\u001b[0m, in \u001b[0;36m<cell line: 13>\u001b[1;34m()\u001b[0m\n\u001b[0;32m     11\u001b[0m     \u001b[38;5;28mprint\u001b[39m(v)  \n\u001b[0;32m     12\u001b[0m area()\n\u001b[1;32m---> 13\u001b[0m \u001b[43mvol\u001b[49m\u001b[43m(\u001b[49m\u001b[43m)\u001b[49m\n",
      "Input \u001b[1;32mIn [8]\u001b[0m, in \u001b[0;36mvol\u001b[1;34m()\u001b[0m\n\u001b[0;32m      9\u001b[0m h\u001b[38;5;241m=\u001b[39m\u001b[38;5;28mint\u001b[39m(\u001b[38;5;28minput\u001b[39m(\u001b[38;5;124m\"\u001b[39m\u001b[38;5;124mEnter h=\u001b[39m\u001b[38;5;124m\"\u001b[39m))\n\u001b[0;32m     10\u001b[0m a\u001b[38;5;241m=\u001b[39ml\u001b[38;5;241m*\u001b[39mb                     \u001b[38;5;66;03m#local variable\u001b[39;00m\n\u001b[1;32m---> 11\u001b[0m \u001b[38;5;28mprint\u001b[39m(\u001b[43mv\u001b[49m)\n",
      "\u001b[1;31mNameError\u001b[0m: name 'v' is not defined"
     ]
    }
   ],
   "source": [
    "def area():\n",
    "    l=int(input(\"Enter l=\"))  #local variable\n",
    "    b=int(input(\"Enter b=\"))  #local variable\n",
    "    a=l*b                     #local variable\n",
    "    print(a)\n",
    "def vol():\n",
    "    l=int(input(\"Enter l=\"))  #local variable\n",
    "    b=int(input(\"Enter b=\"))  #local variable\n",
    "    h=int(input(\"Enter h=\"))\n",
    "    v=l*b*h                     #local variable\n",
    "    print(v)  \n",
    "area()\n",
    "vol()"
   ]
  },
  {
   "cell_type": "code",
   "execution_count": 9,
   "id": "59df6dc9",
   "metadata": {},
   "outputs": [],
   "source": [
    "# fn without argument and no return type\n",
    "# fn with argument and no return type\n",
    "# fn without argument and return type\n",
    "# fn with argument and return type"
   ]
  },
  {
   "cell_type": "code",
   "execution_count": 10,
   "id": "352f9ff1",
   "metadata": {},
   "outputs": [],
   "source": [
    "def hello(x):   #x= parameter\n",
    "    pass\n",
    "\n",
    "hello (\"Hello world\") #\"Hello world\": argument"
   ]
  },
  {
   "cell_type": "code",
   "execution_count": 11,
   "id": "bda52aed",
   "metadata": {},
   "outputs": [
    {
     "name": "stdout",
     "output_type": "stream",
     "text": [
      "Enter l=10\n",
      "Enter b=5\n",
      "50\n"
     ]
    }
   ],
   "source": [
    "# fn with argument and no return type\n",
    "\n",
    "def area(l,b):\n",
    "    a=l*b\n",
    "    print(a)\n",
    "    \n",
    "l=int(input(\"Enter l=\")) \n",
    "b=int(input(\"Enter b=\"))\n",
    "area(l,b)"
   ]
  },
  {
   "cell_type": "code",
   "execution_count": 12,
   "id": "2e299d98",
   "metadata": {},
   "outputs": [
    {
     "name": "stdout",
     "output_type": "stream",
     "text": [
      "Enter l=10\n",
      "Enter b=5\n",
      "50\n"
     ]
    }
   ],
   "source": [
    "# fn with argument and no return type\n",
    "\n",
    "def area(x,y):\n",
    "    a=x*y\n",
    "    print(a)\n",
    "    \n",
    "l=int(input(\"Enter l=\")) \n",
    "b=int(input(\"Enter b=\"))\n",
    "area(l,b)"
   ]
  },
  {
   "cell_type": "code",
   "execution_count": 16,
   "id": "1d4da02b",
   "metadata": {},
   "outputs": [
    {
     "name": "stdout",
     "output_type": "stream",
     "text": [
      "Enter l=10\n",
      "Enter b=5\n",
      "Enter h=10\n",
      "area = 50\n",
      "volume= 500\n"
     ]
    }
   ],
   "source": [
    "def cal(x,y,z):\n",
    "    a=x*y\n",
    "    v=x*y*z\n",
    "    print(\"area =\", a)\n",
    "    print(\"volume=\", v)\n",
    "    \n",
    "l=int(input(\"Enter l=\"))  \n",
    "b=int(input(\"Enter b=\"))  \n",
    "h=int(input(\"Enter h=\"))\n",
    "cal(l,b,h)"
   ]
  },
  {
   "cell_type": "code",
   "execution_count": 17,
   "id": "7f911431",
   "metadata": {},
   "outputs": [
    {
     "name": "stdout",
     "output_type": "stream",
     "text": [
      "Enter a =4\n",
      "Enter b =5\n",
      "Enter + - * /   +\n",
      "9\n"
     ]
    }
   ],
   "source": [
    "#calculator using functions \n",
    "\n",
    "a = int(input(\"Enter a = \"))\n",
    "b = int(input(\"Enter b = \"))\n",
    "o = input(\"Enter + - * /   \")\n",
    "\n",
    "def add(a,b):\n",
    "    print(a+b)\n",
    "def sub(a,b):\n",
    "    print(a-b)\n",
    "def mul(a,b):\n",
    "    print(a*b)   \n",
    "def div(a,b):\n",
    "    print(a/b)\n",
    "\n",
    "def cal(a,b,o):\n",
    "    if o == '+':\n",
    "        print(a+b)\n",
    "    elif o == '-':\n",
    "        print(a-b)\n",
    "    elif o == '*':\n",
    "        print(a*b)\n",
    "    elif o == '/' and b!=0:\n",
    "        print(a/b)\n",
    "    elif o == '/' and b==0:\n",
    "        print(\"The value of b can not be zero.\")\n",
    "    else:\n",
    "        print(\"Invalid Operator\")\n",
    "        \n",
    "cal(a,b,o)"
   ]
  },
  {
   "cell_type": "code",
   "execution_count": 20,
   "id": "b798ab2b",
   "metadata": {},
   "outputs": [
    {
     "name": "stdout",
     "output_type": "stream",
     "text": [
      "Hello World\n"
     ]
    }
   ],
   "source": [
    "def hello(x):\n",
    "    y=x+\" World\"\n",
    "    return y\n",
    "print(hello(\"Hello\"))"
   ]
  },
  {
   "cell_type": "code",
   "execution_count": 22,
   "id": "5a4787d8",
   "metadata": {},
   "outputs": [
    {
     "name": "stdout",
     "output_type": "stream",
     "text": [
      "Hello World\n",
      "Hello WorldI am Anaconda\n"
     ]
    }
   ],
   "source": [
    "def hello(x):\n",
    "    y=x+\" World\"\n",
    "    return y\n",
    "z=hello(\"Hello\")\n",
    "print(z)\n",
    "print(z+\"I am Anaconda\")"
   ]
  },
  {
   "cell_type": "code",
   "execution_count": 29,
   "id": "f0859cb0",
   "metadata": {},
   "outputs": [
    {
     "name": "stdout",
     "output_type": "stream",
     "text": [
      "50\n"
     ]
    }
   ],
   "source": [
    "def area(l,b):\n",
    "    a=l*b\n",
    "    return a\n",
    "l=int(input(\"Enter l=\"))  \n",
    "b=int(input(\"Enter b=\"))\n",
    "h=int(input(\"Enter h=\"))\n",
    "ar= area(l,b)\n",
    "v=ar*h\n",
    "print(ar)\n",
    "print(v)\n",
    "print(area(10,5))"
   ]
  },
  {
   "cell_type": "code",
   "execution_count": 30,
   "id": "d95ac05c",
   "metadata": {},
   "outputs": [
    {
     "name": "stdout",
     "output_type": "stream",
     "text": [
      "Enter a =4\n",
      "Enter b =5\n",
      "Enter + - * /   *\n",
      "20\n"
     ]
    }
   ],
   "source": [
    "a = int(input(\"Enter a = \"))\n",
    "b = int(input(\"Enter b = \"))\n",
    "o = input(\"Enter + - * /   \")\n",
    "\n",
    "def add(a,b):\n",
    "    return(a+b)\n",
    "def sub(a,b):\n",
    "    return(a-b)\n",
    "def mul(a,b):\n",
    "    return(a*b)   \n",
    "def div(a,b):\n",
    "    return(a/b)\n",
    "\n",
    "def cal(a,b,o):\n",
    "    if o == '+':\n",
    "        print(add(a,b))\n",
    "    elif o == '-':\n",
    "        print(sub(a,b))\n",
    "    elif o == '*':\n",
    "        print(mul(a,b))\n",
    "    elif o == '/' and b!=0:\n",
    "        print(div(a,b))\n",
    "    elif o == '/' and b==0:\n",
    "        print(\"The value of b can not be zero.\")\n",
    "    else:\n",
    "        print(\"Invalid Operator\")\n",
    "        \n",
    "cal(a,b,o)"
   ]
  },
  {
   "cell_type": "code",
   "execution_count": 1,
   "id": "875338eb",
   "metadata": {},
   "outputs": [
    {
     "name": "stdout",
     "output_type": "stream",
     "text": [
      "Hello World\n"
     ]
    }
   ],
   "source": [
    "# recursive function\n",
    "def hello():\n",
    "    print(\"Hello World\")\n",
    "    \n",
    "\n",
    "    \n",
    "hello()"
   ]
  },
  {
   "cell_type": "code",
   "execution_count": 4,
   "id": "ead141bb",
   "metadata": {},
   "outputs": [
    {
     "name": "stdout",
     "output_type": "stream",
     "text": [
      "Enter p:1000\n",
      "Enter t:5\n",
      "Enter r:10\n",
      "500.0\n",
      "Enter y for more calculation:n\n",
      "The loop has stopped\n"
     ]
    }
   ],
   "source": [
    "def cal():\n",
    "    p=int(input(\"Enter p:\"))\n",
    "    t=int(input(\"Enter t:\"))\n",
    "    r=int(input(\"Enter r:\"))\n",
    "    i=p*t*r/100\n",
    "    print(i)\n",
    "    x=input(\"Enter y for more calculation:\")\n",
    "    if x=='y':\n",
    "        cal()\n",
    "    else:\n",
    "        print(\"The loop has stopped\")\n",
    "cal()"
   ]
  },
  {
   "cell_type": "code",
   "execution_count": null,
   "id": "b04ca6c0",
   "metadata": {},
   "outputs": [],
   "source": [
    "# math function\n",
    "# import math\n",
    "# math.factorial\n",
    "import math as m\n",
    "m.factorial"
   ]
  }
 ],
 "metadata": {
  "kernelspec": {
   "display_name": "Python 3 (ipykernel)",
   "language": "python",
   "name": "python3"
  },
  "language_info": {
   "codemirror_mode": {
    "name": "ipython",
    "version": 3
   },
   "file_extension": ".py",
   "mimetype": "text/x-python",
   "name": "python",
   "nbconvert_exporter": "python",
   "pygments_lexer": "ipython3",
   "version": "3.9.12"
  }
 },
 "nbformat": 4,
 "nbformat_minor": 5
}
