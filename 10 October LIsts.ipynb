{
 "cells": [
  {
   "cell_type": "code",
   "execution_count": 1,
   "id": "4420e804",
   "metadata": {},
   "outputs": [],
   "source": [
    "# python collection\n",
    "# list for saving multiple variables with a single identifier\n",
    "# tuple\n",
    "# set\n",
    "# dictionary"
   ]
  },
  {
   "cell_type": "code",
   "execution_count": 13,
   "id": "f6141389",
   "metadata": {},
   "outputs": [
    {
     "name": "stdout",
     "output_type": "stream",
     "text": [
      "['r', 'a', 'm']\n"
     ]
    }
   ],
   "source": [
    "# list \n",
    "# supports \n",
    "#     indexing-- numbering of the positions\n",
    "#     multiple data \n",
    "#     duplicate data \n",
    "#     ordered--prints as in the list--- position importance is given more\n",
    "\n",
    "#     mutable---easily mutable\n",
    "\n",
    "# b=list() -- used to convert to list ...an empty list\n",
    "\n",
    "# a[] is an indexing bot list\n",
    "a=[1,2,3,4]\n",
    "b=list(\"ram\")\n",
    "print(b)"
   ]
  },
  {
   "cell_type": "code",
   "execution_count": 19,
   "id": "c89a7385",
   "metadata": {},
   "outputs": [
    {
     "name": "stdout",
     "output_type": "stream",
     "text": [
      "<class 'list'>\n",
      "<class 'list'>\n",
      "1\n",
      "Ball\n",
      "['Apple', 'Ball', 'Cat']\n",
      "['Apple', 'Cat']\n",
      "4\n"
     ]
    }
   ],
   "source": [
    "a=[1,2,3,4]\n",
    "b=[\"Apple\",'Ball', 'Cat','Ball']\n",
    "print(type(a))\n",
    "print(type(b))\n",
    "print(a[0])\n",
    "print(b[-1])\n",
    "print(b[0:3])\n",
    "print(b[0:4:2])\n",
    "print(len(b))"
   ]
  },
  {
   "cell_type": "code",
   "execution_count": 21,
   "id": "af6edffb",
   "metadata": {},
   "outputs": [
    {
     "name": "stdout",
     "output_type": "stream",
     "text": [
      "['Apple', 'Ball', 'Cat', 'Ball', 'Fish']\n"
     ]
    }
   ],
   "source": [
    "a=[\"Apple\",'Ball', 'Cat','Ball']\n",
    "b=[\"Fish\"]\n",
    "c=a+b\n",
    "print(c)"
   ]
  },
  {
   "cell_type": "code",
   "execution_count": 23,
   "id": "d321a4f7",
   "metadata": {},
   "outputs": [
    {
     "name": "stdout",
     "output_type": "stream",
     "text": [
      "['apple', 'Ball', 'Cat', 'Ball', 'Fish']\n"
     ]
    }
   ],
   "source": [
    "# how to read a list \n",
    "\n",
    "a=['Apple', 'Ball', 'Cat', 'Ball', 'Fish']\n",
    "a[0]=\"apple\"\n",
    "print(a)"
   ]
  },
  {
   "cell_type": "code",
   "execution_count": 24,
   "id": "539b757a",
   "metadata": {},
   "outputs": [
    {
     "name": "stdout",
     "output_type": "stream",
     "text": [
      "Apple\n",
      "Ball\n",
      "Cat\n",
      "Ball\n",
      "Fish\n"
     ]
    }
   ],
   "source": [
    "# how to read a list \n",
    "\n",
    "a=['Apple', 'Ball', 'Cat', 'Ball', 'Fish']\n",
    "for i in a:\n",
    "    print(i)"
   ]
  },
  {
   "cell_type": "code",
   "execution_count": 27,
   "id": "e779fd80",
   "metadata": {},
   "outputs": [
    {
     "name": "stdout",
     "output_type": "stream",
     "text": [
      "Ball\n",
      "Cat\n",
      "Ball\n",
      "Fish\n"
     ]
    }
   ],
   "source": [
    "a=['Apple', 'Ball', 'Cat', 'Ball', 'Fish']\n",
    "for i in a:\n",
    "    if i!= \"Apple\":\n",
    "        print(i)"
   ]
  },
  {
   "cell_type": "code",
   "execution_count": 30,
   "id": "2c40a40b",
   "metadata": {},
   "outputs": [
    {
     "name": "stdout",
     "output_type": "stream",
     "text": [
      "Apple Ball Cat Ball Fish "
     ]
    }
   ],
   "source": [
    "# how to read a list \n",
    "\n",
    "a=['Apple', 'Ball', 'Cat', 'Ball', 'Fish']\n",
    "l=len(a)\n",
    "\n",
    "for i in range(l):\n",
    "    print(a[i],end=(\" \"))"
   ]
  },
  {
   "cell_type": "code",
   "execution_count": 43,
   "id": "001b9502",
   "metadata": {},
   "outputs": [
    {
     "name": "stdout",
     "output_type": "stream",
     "text": [
      "Enter the value of n=3\n",
      "Enter the value of x=6\n",
      "Enter the value of x=9\n",
      "Enter the value of x=4\n",
      "[6, 9, 4]\n",
      "the max value is   9\n",
      "the min value is   4\n",
      "the sum of the given value is   19\n",
      "the average of the given value is   6.333333333333333\n",
      "the ascendeing order is  [4, 6, 9]\n",
      "the descendeing order is  [9, 6, 4]\n"
     ]
    }
   ],
   "source": [
    "a= list()\n",
    "n=int(input(\"Enter the value of n=\"))\n",
    "for i in range(n):\n",
    "    x=int(input(\"Enter the value of x=\"))\n",
    "    a=a+[x]\n",
    "print(a)\n",
    "print(\"the max value is  \", max(a))\n",
    "print(\"the min value is  \", min(a))\n",
    "print(\"the sum of the given value is  \", sum(a))\n",
    "print(\"the average of the given value is  \", sum(a)/n)\n",
    "a.sort()\n",
    "print(\"the ascendeing order is \", a)\n",
    "a.reverse()\n",
    "print(\"the descendeing order is \", a) \n",
    "    \n",
    "#     a=a + x  a+x list and an interger doesnt add up\n",
    "#     a=a + list(x)  list(x) will be an error\n"
   ]
  },
  {
   "cell_type": "code",
   "execution_count": 36,
   "id": "541be1cc",
   "metadata": {},
   "outputs": [
    {
     "name": "stdout",
     "output_type": "stream",
     "text": [
      "Enter the number of students=3\n",
      "Enter the names of students=sudip\n",
      "Enter the names of students=bikesh\n",
      "Enter the names of students=samir\n",
      "['sudip', 'bikesh', 'samir']\n"
     ]
    }
   ],
   "source": [
    "# a= list() is defining the a as list..like in s=0; for integer, s=\"\" for string\n",
    "\n",
    "\n",
    "a= list()\n",
    "n=int(input(\"Enter the number of students=\"))\n",
    "for i in range(n):\n",
    "    x=(input(\"Enter the names of students=\"))\n",
    "    a=a+[x]\n",
    "    \n",
    "print(a)"
   ]
  },
  {
   "cell_type": "code",
   "execution_count": 45,
   "id": "2c84fee6",
   "metadata": {},
   "outputs": [
    {
     "name": "stdout",
     "output_type": "stream",
     "text": [
      "['Apple', 'Ball', 'Cat', 'Fish', 'Jug', 'Zebra', 'apple']\n",
      "['apple', 'Zebra', 'Jug', 'Fish', 'Cat', 'Ball', 'Apple']\n"
     ]
    }
   ],
   "source": [
    "a=['Apple', 'apple','Zebra','Jug', 'Cat', 'Ball', 'Fish']\n",
    "a.sort()\n",
    "print (a)\n",
    "a.reverse()\n",
    "print(a)"
   ]
  },
  {
   "cell_type": "code",
   "execution_count": null,
   "id": "04912fd5",
   "metadata": {},
   "outputs": [],
   "source": [
    "#  to add values in list \n",
    "# append(), insert() extend()\n",
    "\n",
    "#  to delete values in list \n",
    "# del ,  remove() pop()\n",
    "\n",
    "# for indexing\n",
    "# index ()\n",
    "\n",
    "# value Counting\n",
    "# count()\n",
    "\n",
    "# calculation\n",
    "# sum, max , min \n",
    "\n",
    "# sorting\n",
    "# sort(), sorted(), reverse()"
   ]
  },
  {
   "cell_type": "code",
   "execution_count": null,
   "id": "39a6e7a2",
   "metadata": {},
   "outputs": [],
   "source": []
  }
 ],
 "metadata": {
  "kernelspec": {
   "display_name": "Python 3 (ipykernel)",
   "language": "python",
   "name": "python3"
  },
  "language_info": {
   "codemirror_mode": {
    "name": "ipython",
    "version": 3
   },
   "file_extension": ".py",
   "mimetype": "text/x-python",
   "name": "python",
   "nbconvert_exporter": "python",
   "pygments_lexer": "ipython3",
   "version": "3.9.12"
  }
 },
 "nbformat": 4,
 "nbformat_minor": 5
}
