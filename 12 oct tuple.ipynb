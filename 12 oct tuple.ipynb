{
 "cells": [
  {
   "cell_type": "code",
   "execution_count": 1,
   "id": "096668c4",
   "metadata": {},
   "outputs": [],
   "source": [
    "# tuple \n",
    "# supports \n",
    "#     indexing-- numbering of the positions\n",
    "#     multiple data \n",
    "#     duplicate data \n",
    "#     ordered--prints as in the list--- position importance is given more\n",
    "\n",
    "#     immutable\n",
    "\n",
    "# For only one value comma is inportant\n",
    "# for data that should not be edited\n",
    "# lightweight\n",
    "# conversion to list is possible\n",
    "\n",
    "#         Tuple and list combinations \n",
    "#  tuple insie tuple\n",
    "#  tuple insie list\n",
    "#  list insie tuple"
   ]
  },
  {
   "cell_type": "code",
   "execution_count": 2,
   "id": "7d7f331d",
   "metadata": {},
   "outputs": [
    {
     "name": "stdout",
     "output_type": "stream",
     "text": [
      "<class 'tuple'>\n"
     ]
    }
   ],
   "source": [
    "a=(1,2,3)\n",
    "print(type(a))"
   ]
  },
  {
   "cell_type": "code",
   "execution_count": 6,
   "id": "170e5f2c",
   "metadata": {},
   "outputs": [
    {
     "name": "stdout",
     "output_type": "stream",
     "text": [
      "('Apple', 'Ball', 'Fish', 'ram')\n"
     ]
    }
   ],
   "source": [
    "a=(\"Apple\",\"Ball\")\n",
    "b=(\"Fish\",\"ram\")\n",
    "c=a+b\n",
    "print(c)"
   ]
  },
  {
   "cell_type": "code",
   "execution_count": 7,
   "id": "06130c59",
   "metadata": {},
   "outputs": [],
   "source": [
    "# no append insert extend sort ((((but can be sorted althought changes to list)))\n",
    "# no del pop remove\n",
    "# no update"
   ]
  },
  {
   "cell_type": "code",
   "execution_count": 12,
   "id": "78570d92",
   "metadata": {},
   "outputs": [
    {
     "data": {
      "text/plain": [
       "('Apple', 'Ram')"
      ]
     },
     "execution_count": 12,
     "metadata": {},
     "output_type": "execute_result"
    }
   ],
   "source": [
    "a=tuple()\n",
    "b=(\"Apple\",)\n",
    "c=(\"Ram\",)\n",
    "a= a+b\n",
    "a=a+c\n",
    "a"
   ]
  },
  {
   "cell_type": "code",
   "execution_count": 13,
   "id": "d771243a",
   "metadata": {},
   "outputs": [
    {
     "name": "stdout",
     "output_type": "stream",
     "text": [
      "Enter n=2\n",
      "Enter x=3\n",
      "Enter x=4\n",
      "(3, 4)\n"
     ]
    }
   ],
   "source": [
    "t= tuple()\n",
    "n= int(input(\"Enter n=\"))\n",
    "for i in range(n):\n",
    "    x= int(input(\"Enter x=\"))\n",
    "    t=t+(x,)\n",
    "print(t)"
   ]
  },
  {
   "cell_type": "code",
   "execution_count": 15,
   "id": "a8df00b9",
   "metadata": {},
   "outputs": [
    {
     "name": "stdout",
     "output_type": "stream",
     "text": [
      "<class 'list'>\n",
      "<class 'tuple'>\n"
     ]
    }
   ],
   "source": [
    "a=(\"Apple\",\"Ball\")\n",
    "l=list(a)\n",
    "print(type(l))\n",
    "print(type(a))\n"
   ]
  },
  {
   "cell_type": "code",
   "execution_count": 19,
   "id": "d9787ebf",
   "metadata": {},
   "outputs": [
    {
     "name": "stdout",
     "output_type": "stream",
     "text": [
      "Enter the name:Sita\n",
      "Yes\n"
     ]
    }
   ],
   "source": [
    "a=(\"Ram\",\"Sita\",\"Hari\",\"Shyam\")\n",
    "x=input(\"Enter the name:\")\n",
    "if x in a:\n",
    "    print(\"Yes\")\n",
    "else:\n",
    "    print(\"No\")"
   ]
  },
  {
   "cell_type": "code",
   "execution_count": 20,
   "id": "10b9e484",
   "metadata": {},
   "outputs": [
    {
     "data": {
      "text/plain": [
       "['Hari', 'Ram', 'Shyam', 'Sita']"
      ]
     },
     "execution_count": 20,
     "metadata": {},
     "output_type": "execute_result"
    }
   ],
   "source": [
    "a=(\"Ram\",\"Sita\",\"Hari\",\"Shyam\")\n",
    "sorted(a)"
   ]
  },
  {
   "cell_type": "code",
   "execution_count": 22,
   "id": "4cebd013",
   "metadata": {},
   "outputs": [
    {
     "data": {
      "text/plain": [
       "((1, 2, 3), (4, 5, 6), (7, 8, 9))"
      ]
     },
     "execution_count": 22,
     "metadata": {},
     "output_type": "execute_result"
    }
   ],
   "source": [
    "#  tuple insie tuple\n",
    "t=((1,2,3),\n",
    "  (4,5,6),\n",
    "  (7,8,9))\n",
    "t"
   ]
  },
  {
   "cell_type": "code",
   "execution_count": 23,
   "id": "2809355e",
   "metadata": {},
   "outputs": [
    {
     "name": "stdout",
     "output_type": "stream",
     "text": [
      "Enter n=2\n",
      "Enter x=1\n",
      "Enter y=2\n",
      "Enter z=3\n",
      "Enter x=3\n",
      "Enter y=2\n",
      "Enter z=1\n",
      "((1, 2, 3), (3, 2, 1))\n"
     ]
    }
   ],
   "source": [
    "t= tuple()\n",
    "n= int(input(\"Enter n=\"))\n",
    "for i in range(n):\n",
    "    x= int(input(\"Enter x=\"))\n",
    "    y= int(input(\"Enter y=\"))\n",
    "    z= int(input(\"Enter z=\"))\n",
    "    t=t+((x,y,z),)\n",
    "print(t)"
   ]
  },
  {
   "cell_type": "code",
   "execution_count": 26,
   "id": "2c5be2c2",
   "metadata": {},
   "outputs": [
    {
     "name": "stdout",
     "output_type": "stream",
     "text": [
      "[1, 2, 3]\n",
      "[3, 2, 1]\n"
     ]
    }
   ],
   "source": [
    "t=((1, 2, 3), (3, 2, 1))\n",
    "for i in t:\n",
    "    print(list(i))"
   ]
  },
  {
   "cell_type": "code",
   "execution_count": 25,
   "id": "282cd9d4",
   "metadata": {},
   "outputs": [
    {
     "data": {
      "text/plain": [
       "[[1, 2, 3], [3, 2, 1]]"
      ]
     },
     "execution_count": 25,
     "metadata": {},
     "output_type": "execute_result"
    }
   ],
   "source": [
    "#  list insie list\n",
    "\n",
    "\n",
    "l=[]\n",
    "t=((1, 2, 3), (3, 2, 1))\n",
    "for i in t:\n",
    "    l.append(list(i))\n",
    "l"
   ]
  },
  {
   "cell_type": "code",
   "execution_count": 32,
   "id": "ae24c5a0",
   "metadata": {},
   "outputs": [
    {
     "data": {
      "text/plain": [
       "[(1, 2, 3), (3, 2, 1)]"
      ]
     },
     "execution_count": 32,
     "metadata": {},
     "output_type": "execute_result"
    }
   ],
   "source": [
    "# different method from above \n",
    "#  tuples insie list\n",
    "\n",
    "\n",
    "t=((1, 2, 3), (3, 2, 1))\n",
    "l=list(t)\n",
    "l"
   ]
  },
  {
   "cell_type": "code",
   "execution_count": 31,
   "id": "4128b830",
   "metadata": {},
   "outputs": [
    {
     "data": {
      "text/plain": [
       "[(1, 2, 3), (3, 2, 1), (7, 8, 9)]"
      ]
     },
     "execution_count": 31,
     "metadata": {},
     "output_type": "execute_result"
    }
   ],
   "source": [
    "# can be added as a list\n",
    "\n",
    "\n",
    "t=[(1, 2, 3), (3, 2, 1)]\n",
    "t.append((7,8,9))\n",
    "t"
   ]
  },
  {
   "cell_type": "code",
   "execution_count": 27,
   "id": "dbe6148c",
   "metadata": {},
   "outputs": [
    {
     "name": "stdout",
     "output_type": "stream",
     "text": [
      "((1, 2, 3), (3, 2, 1))\n"
     ]
    }
   ],
   "source": [
    "t=tuple()\n",
    "l=[[1, 2, 3], [3, 2, 1]]\n",
    "for i in l:\n",
    "    t=t+(tuple(i),)\n",
    "print(t)"
   ]
  },
  {
   "cell_type": "code",
   "execution_count": 33,
   "id": "8a98c223",
   "metadata": {},
   "outputs": [
    {
     "data": {
      "text/plain": [
       "([], [3, 2, 1])"
      ]
     },
     "execution_count": 33,
     "metadata": {},
     "output_type": "execute_result"
    }
   ],
   "source": [
    "t=([1, 2, 3], [3, 2, 1])\n",
    "t[0].clear()\n",
    "t"
   ]
  },
  {
   "cell_type": "code",
   "execution_count": 34,
   "id": "4017125c",
   "metadata": {},
   "outputs": [
    {
     "ename": "NameError",
     "evalue": "name 'clear' is not defined",
     "output_type": "error",
     "traceback": [
      "\u001b[1;31m---------------------------------------------------------------------------\u001b[0m",
      "\u001b[1;31mNameError\u001b[0m                                 Traceback (most recent call last)",
      "Input \u001b[1;32mIn [34]\u001b[0m, in \u001b[0;36m<cell line: 2>\u001b[1;34m()\u001b[0m\n\u001b[0;32m      1\u001b[0m t\u001b[38;5;241m=\u001b[39m([\u001b[38;5;241m1\u001b[39m, \u001b[38;5;241m2\u001b[39m, \u001b[38;5;241m3\u001b[39m], [\u001b[38;5;241m3\u001b[39m, \u001b[38;5;241m2\u001b[39m, \u001b[38;5;241m1\u001b[39m])\n\u001b[1;32m----> 2\u001b[0m \u001b[43mclear\u001b[49m(t[\u001b[38;5;241m0\u001b[39m])\n\u001b[0;32m      3\u001b[0m t\n",
      "\u001b[1;31mNameError\u001b[0m: name 'clear' is not defined"
     ]
    }
   ],
   "source": [
    "# syntax error\n",
    "\n",
    "\n",
    "t=([1, 2, 3], [3, 2, 1])\n",
    "clear(t[0])\n",
    "t"
   ]
  },
  {
   "cell_type": "code",
   "execution_count": null,
   "id": "1c9cc2cc",
   "metadata": {},
   "outputs": [],
   "source": []
  }
 ],
 "metadata": {
  "kernelspec": {
   "display_name": "Python 3 (ipykernel)",
   "language": "python",
   "name": "python3"
  },
  "language_info": {
   "codemirror_mode": {
    "name": "ipython",
    "version": 3
   },
   "file_extension": ".py",
   "mimetype": "text/x-python",
   "name": "python",
   "nbconvert_exporter": "python",
   "pygments_lexer": "ipython3",
   "version": "3.9.12"
  }
 },
 "nbformat": 4,
 "nbformat_minor": 5
}
