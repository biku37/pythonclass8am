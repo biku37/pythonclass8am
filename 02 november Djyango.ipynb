{
 "cells": [
  {
   "cell_type": "code",
   "execution_count": 1,
   "id": "c4eb3ce3",
   "metadata": {},
   "outputs": [],
   "source": [
    "# web page development life cycle\n",
    "# sktech\n",
    "# mochup\n",
    "# layoutit.com"
   ]
  },
  {
   "cell_type": "code",
   "execution_count": null,
   "id": "12b917eb",
   "metadata": {},
   "outputs": [],
   "source": [
    "# visual code\n",
    "# bootstrap== doc== \n",
    "#     Introduction\n",
    "#             html code with CSS and JS \n",
    "# go to layoutit.com and design the division(boxes)\n",
    "# download the code and paste to body part replacing \"Hello world\"\n",
    "\n",
    "# from bootstrap\n",
    "# copy navbars code and paste it under column\n",
    "# copy list group codes for category\n",
    "# copy carousel for slide images\n",
    "# cards for images with details"
   ]
  },
  {
   "cell_type": "code",
   "execution_count": null,
   "id": "17b61a65",
   "metadata": {},
   "outputs": [],
   "source": [
    "# card \n",
    "# image size\n",
    "# image source ===  style = \"height:50px; width:50px\""
   ]
  }
 ],
 "metadata": {
  "kernelspec": {
   "display_name": "Python 3 (ipykernel)",
   "language": "python",
   "name": "python3"
  },
  "language_info": {
   "codemirror_mode": {
    "name": "ipython",
    "version": 3
   },
   "file_extension": ".py",
   "mimetype": "text/x-python",
   "name": "python",
   "nbconvert_exporter": "python",
   "pygments_lexer": "ipython3",
   "version": "3.9.12"
  }
 },
 "nbformat": 4,
 "nbformat_minor": 5
}
