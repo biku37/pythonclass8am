{
 "cells": [
  {
   "cell_type": "code",
   "execution_count": 1,
   "id": "ae7e8446",
   "metadata": {},
   "outputs": [],
   "source": [
    "#comprehension: List, Dictionary"
   ]
  },
  {
   "cell_type": "code",
   "execution_count": 2,
   "id": "410d7b3f",
   "metadata": {},
   "outputs": [
    {
     "data": {
      "text/plain": [
       "[0, 1, 2, 3, 4]"
      ]
     },
     "execution_count": 2,
     "metadata": {},
     "output_type": "execute_result"
    }
   ],
   "source": [
    "l=[i for i in range(5)]\n",
    "l"
   ]
  },
  {
   "cell_type": "code",
   "execution_count": 4,
   "id": "13098caf",
   "metadata": {},
   "outputs": [
    {
     "data": {
      "text/plain": [
       "[0, 2, 4, 6, 8, 10, 12, 14]"
      ]
     },
     "execution_count": 4,
     "metadata": {},
     "output_type": "execute_result"
    }
   ],
   "source": [
    "l=[i for i in range(15) if i%2==0]\n",
    "l"
   ]
  },
  {
   "cell_type": "code",
   "execution_count": 7,
   "id": "1a1c6b6c",
   "metadata": {},
   "outputs": [
    {
     "data": {
      "text/plain": [
       "[78, 88, 44]"
      ]
     },
     "execution_count": 7,
     "metadata": {},
     "output_type": "execute_result"
    }
   ],
   "source": [
    "a=[23,45,67,78,88,44,23,89,43]\n",
    "l=[i for i in a if i%2==0]\n",
    "l"
   ]
  },
  {
   "cell_type": "code",
   "execution_count": 8,
   "id": "1c07399d",
   "metadata": {},
   "outputs": [
    {
     "data": {
      "text/plain": [
       "['Apple', 'Ball']"
      ]
     },
     "execution_count": 8,
     "metadata": {},
     "output_type": "execute_result"
    }
   ],
   "source": [
    "a=(\"Apple\",\"Ball\",\"cat\",\"dog\",\"fish\")\n",
    "l= [x for x in a if x[0].isupper()]\n",
    "l"
   ]
  },
  {
   "cell_type": "code",
   "execution_count": 9,
   "id": "b87174a7",
   "metadata": {},
   "outputs": [
    {
     "data": {
      "text/plain": [
       "{1: 1, 2: 4, 3: 9, 4: 16, 5: 25, 6: 36, 7: 49, 8: 64, 9: 81, 10: 100}"
      ]
     },
     "execution_count": 9,
     "metadata": {},
     "output_type": "execute_result"
    }
   ],
   "source": [
    "d={i:i**2 for i in range(1,11)}\n",
    "d"
   ]
  },
  {
   "cell_type": "code",
   "execution_count": 10,
   "id": "32721bce",
   "metadata": {},
   "outputs": [
    {
     "data": {
      "text/plain": [
       "{'Apple': 'apple', 'Ball': 'ball', 'cat': 'cat', 'dog': 'dog', 'fish': 'fish'}"
      ]
     },
     "execution_count": 10,
     "metadata": {},
     "output_type": "execute_result"
    }
   ],
   "source": [
    "a=(\"Apple\",\"Ball\",\"cat\",\"dog\",\"fish\")\n",
    "d={i:i.lower() for i in a}\n",
    "d"
   ]
  },
  {
   "cell_type": "code",
   "execution_count": 11,
   "id": "1dd2313c",
   "metadata": {},
   "outputs": [
    {
     "name": "stdout",
     "output_type": "stream",
     "text": [
      "Enter value= ram\n",
      "Enter value= biks\n",
      "Enter value= chiks\n",
      "Enter value= diks\n",
      "Enter value= eiks\n"
     ]
    },
    {
     "data": {
      "text/plain": [
       "['ram', 'biks', 'chiks', 'diks', 'eiks']"
      ]
     },
     "execution_count": 11,
     "metadata": {},
     "output_type": "execute_result"
    }
   ],
   "source": [
    "l=[input(\"Enter value= \") for i in range(5)]\n",
    "l"
   ]
  },
  {
   "cell_type": "code",
   "execution_count": 13,
   "id": "c844668c",
   "metadata": {},
   "outputs": [
    {
     "name": "stdout",
     "output_type": "stream",
     "text": [
      "Enter the name=ram\n",
      "Enter phone= 2342\n",
      "Enter the name=shyam\n",
      "Enter phone= 232\n"
     ]
    },
    {
     "data": {
      "text/plain": [
       "{'ram': 2342, 'shyam': 232}"
      ]
     },
     "execution_count": 13,
     "metadata": {},
     "output_type": "execute_result"
    }
   ],
   "source": [
    "d={input(\"Enter the name=\"):int(input(\"Enter phone= \")) for i in range(2)}\n",
    "d"
   ]
  },
  {
   "cell_type": "code",
   "execution_count": 14,
   "id": "709cb91a",
   "metadata": {},
   "outputs": [
    {
     "name": "stdout",
     "output_type": "stream",
     "text": [
      "2022-11-01 08:32:41.429535\n"
     ]
    }
   ],
   "source": [
    "# Date and time \n",
    "import datetime\n",
    "\n",
    "x = datetime.datetime.now()\n",
    "print(x)"
   ]
  },
  {
   "cell_type": "code",
   "execution_count": 20,
   "id": "f1ac1497",
   "metadata": {},
   "outputs": [
    {
     "name": "stdout",
     "output_type": "stream",
     "text": [
      "2022\n",
      "Tuesday\n",
      "November\n",
      "Tue\n",
      "Nov\n",
      "11/01/22\n",
      "01\n",
      "Tue Nov  1 08:36:06 2022\n"
     ]
    }
   ],
   "source": [
    "import datetime\n",
    "\n",
    "x = datetime.datetime.now()\n",
    "\n",
    "print(x.year)\n",
    "print(x.strftime(\"%A\"))\n",
    "print(x.strftime(\"%B\"))\n",
    "print(x.strftime(\"%a\"))\n",
    "print(x.strftime(\"%b\"))\n",
    "print(x.strftime(\"%D\"))\n",
    "print(x.strftime(\"%d\"))\n",
    "print(x.strftime(\"%c\"))"
   ]
  },
  {
   "cell_type": "code",
   "execution_count": 22,
   "id": "49cde7ef",
   "metadata": {},
   "outputs": [
    {
     "name": "stdout",
     "output_type": "stream",
     "text": [
      "Enter value:ram\n",
      "0:00:03.531143\n"
     ]
    }
   ],
   "source": [
    "import datetime\n",
    "\n",
    "x = datetime.datetime.now()\n",
    "value=input(\"Enter value:\")\n",
    "y=datetime.datetime.now()\n",
    "print(y-x)\n"
   ]
  },
  {
   "cell_type": "code",
   "execution_count": 23,
   "id": "23d73bd2",
   "metadata": {},
   "outputs": [
    {
     "data": {
      "text/plain": [
       "['.ipynb_checkpoints',\n",
       " '1 November Bonus.ipynb',\n",
       " '10 oct home.ipynb',\n",
       " '10 October LIsts.ipynb',\n",
       " '11 oct home assignments .ipynb',\n",
       " '11 oct list continued.ipynb',\n",
       " '12 oct tuple.ipynb',\n",
       " '13 october dictionary.ipynb',\n",
       " '16 oct Sunday.ipynb',\n",
       " '17 Oct home assignment.ipynb',\n",
       " '17 October Function.ipynb',\n",
       " '18 October File handling.ipynb',\n",
       " '19 October Wednesday pandas.ipynb',\n",
       " '20 october thursday data base .ipynb',\n",
       " '21 october sql connector.ipynb',\n",
       " 'bill.csv',\n",
       " 'data.csv',\n",
       " 'data.txt',\n",
       " 'hilo .ipynb',\n",
       " 'new_data.csv',\n",
       " 'New_datas.csv',\n",
       " 'new_datas.json',\n",
       " 'new_file.txt',\n",
       " 'Untitled.ipynb']"
      ]
     },
     "execution_count": 23,
     "metadata": {},
     "output_type": "execute_result"
    }
   ],
   "source": [
    "#OS package\n",
    "import os\n",
    "#listdir(),mkdir(),chdir(),remove(),rmdir(),rename()\n",
    "os.listdir()"
   ]
  },
  {
   "cell_type": "code",
   "execution_count": 24,
   "id": "e56976ac",
   "metadata": {},
   "outputs": [
    {
     "data": {
      "text/plain": [
       "['.ipynb_checkpoints',\n",
       " '1 November Bonus.ipynb',\n",
       " '10 oct home.ipynb',\n",
       " '10 October LIsts.ipynb',\n",
       " '11 oct home assignments .ipynb',\n",
       " '11 oct list continued.ipynb',\n",
       " '12 oct tuple.ipynb',\n",
       " '13 october dictionary.ipynb',\n",
       " '16 oct Sunday.ipynb',\n",
       " '17 Oct home assignment.ipynb',\n",
       " '17 October Function.ipynb',\n",
       " '18 October File handling.ipynb',\n",
       " '19 October Wednesday pandas.ipynb',\n",
       " '20 october thursday data base .ipynb',\n",
       " '21 october sql connector.ipynb',\n",
       " 'bill.csv',\n",
       " 'data.csv',\n",
       " 'data.txt',\n",
       " 'hilo .ipynb',\n",
       " 'newFolder',\n",
       " 'new_data.csv',\n",
       " 'New_datas.csv',\n",
       " 'new_datas.json',\n",
       " 'new_file.txt',\n",
       " 'Untitled.ipynb']"
      ]
     },
     "execution_count": 24,
     "metadata": {},
     "output_type": "execute_result"
    }
   ],
   "source": [
    "os.mkdir('newFolder')\n",
    "os.listdir()"
   ]
  },
  {
   "cell_type": "code",
   "execution_count": 25,
   "id": "ff09c04b",
   "metadata": {},
   "outputs": [],
   "source": [
    "os.chdir('newFolder')"
   ]
  },
  {
   "cell_type": "code",
   "execution_count": 26,
   "id": "e47c661b",
   "metadata": {},
   "outputs": [
    {
     "data": {
      "text/plain": [
       "'C:\\\\Users\\\\anish\\\\Untitled Folder\\\\newFolder'"
      ]
     },
     "execution_count": 26,
     "metadata": {},
     "output_type": "execute_result"
    }
   ],
   "source": [
    "pwd"
   ]
  },
  {
   "cell_type": "code",
   "execution_count": 27,
   "id": "3e1deae6",
   "metadata": {},
   "outputs": [
    {
     "name": "stdout",
     "output_type": "stream",
     "text": [
      "C:\\Users\\anish\\Untitled Folder\n"
     ]
    }
   ],
   "source": [
    "cd .."
   ]
  },
  {
   "cell_type": "code",
   "execution_count": 29,
   "id": "7e363d24",
   "metadata": {},
   "outputs": [
    {
     "data": {
      "text/plain": [
       "['.ipynb_checkpoints',\n",
       " '1 November Bonus.ipynb',\n",
       " '10 oct home.ipynb',\n",
       " '10 October LIsts.ipynb',\n",
       " '11 oct home assignments .ipynb',\n",
       " '11 oct list continued.ipynb',\n",
       " '12 oct tuple.ipynb',\n",
       " '13 october dictionary.ipynb',\n",
       " '16 oct Sunday.ipynb',\n",
       " '17 Oct home assignment.ipynb',\n",
       " '17 October Function.ipynb',\n",
       " '18 October File handling.ipynb',\n",
       " '19 October Wednesday pandas.ipynb',\n",
       " '20 october thursday data base .ipynb',\n",
       " '21 october sql connector.ipynb',\n",
       " 'bill.csv',\n",
       " 'data.txt',\n",
       " 'hilo .ipynb',\n",
       " 'newFolder',\n",
       " 'new_data.csv',\n",
       " 'New_datas.csv',\n",
       " 'new_datas.json',\n",
       " 'new_file.txt',\n",
       " 'Untitled.ipynb']"
      ]
     },
     "execution_count": 29,
     "metadata": {},
     "output_type": "execute_result"
    }
   ],
   "source": [
    "os.listdir()\n",
    "os.remove('data.csv')\n",
    "os.listdir()"
   ]
  },
  {
   "cell_type": "code",
   "execution_count": 30,
   "id": "44c69dca",
   "metadata": {},
   "outputs": [
    {
     "ename": "SyntaxError",
     "evalue": "invalid syntax (2859224553.py, line 1)",
     "output_type": "error",
     "traceback": [
      "\u001b[1;36m  Input \u001b[1;32mIn [30]\u001b[1;36m\u001b[0m\n\u001b[1;33m    project management\u001b[0m\n\u001b[1;37m            ^\u001b[0m\n\u001b[1;31mSyntaxError\u001b[0m\u001b[1;31m:\u001b[0m invalid syntax\n"
     ]
    }
   ],
   "source": [
    "# project management\n",
    "# Trella---- free small business\n",
    "# jira---- big projects(agile team)---more advanced than trello\n",
    "# slack----most used in Nepal-- used to communicate between different department people\n",
    "# microsoft team\n"
   ]
  },
  {
   "cell_type": "code",
   "execution_count": null,
   "id": "427fc7ff",
   "metadata": {},
   "outputs": [],
   "source": [
    "# GitHub"
   ]
  }
 ],
 "metadata": {
  "kernelspec": {
   "display_name": "Python 3 (ipykernel)",
   "language": "python",
   "name": "python3"
  },
  "language_info": {
   "codemirror_mode": {
    "name": "ipython",
    "version": 3
   },
   "file_extension": ".py",
   "mimetype": "text/x-python",
   "name": "python",
   "nbconvert_exporter": "python",
   "pygments_lexer": "ipython3",
   "version": "3.9.12"
  }
 },
 "nbformat": 4,
 "nbformat_minor": 5
}
